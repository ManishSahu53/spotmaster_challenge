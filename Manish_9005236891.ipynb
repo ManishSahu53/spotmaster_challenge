{
 "cells": [
  {
   "cell_type": "markdown",
   "metadata": {},
   "source": [
    "## Importing Libraries"
   ]
  },
  {
   "cell_type": "code",
   "execution_count": 1,
   "metadata": {},
   "outputs": [],
   "source": [
    "import pandas as pd\n",
    "import numpy as np\n",
    "import json\n",
    "import os\n",
    "import matplotlib.pyplot as plt\n",
    "import warnings\n",
    "warnings.filterwarnings('ignore')"
   ]
  },
  {
   "cell_type": "code",
   "execution_count": 34,
   "metadata": {},
   "outputs": [],
   "source": [
    "import sklearn\n",
    "from sklearn.feature_extraction.text import CountVectorizer\n",
    "from sklearn.model_selection import train_test_split\n",
    "from sklearn.linear_model import LogisticRegression\n",
    "from sklearn.metrics import confusion_matrix\n",
    "from sklearn.tree import DecisionTreeClassifier\n",
    "from sklearn.ensemble import RandomForestClassifier\n",
    "from sklearn.metrics import confusion_matrix, precision_score, recall_score, roc_auc_score, accuracy_score\n",
    "import seaborn as sn"
   ]
  },
  {
   "cell_type": "markdown",
   "metadata": {},
   "source": [
    "## Defining hot encoding and decoding Functions"
   ]
  },
  {
   "cell_type": "code",
   "execution_count": 42,
   "metadata": {},
   "outputs": [],
   "source": [
    "def hotencode(arr):\n",
    "    a = np.zeros([len(arr), np.max(arr)])\n",
    "    for i in range(len(arr)):\n",
    "        col = arr[i]\n",
    "        a[i,col-1] = 1\n",
    "    return a\n",
    "    # invert first example\n",
    "    # inverted = label_encoder.inverse_transform([argmax(onehot_encoded[0, :])])\n",
    "    # print(inverted)\n",
    "\n",
    "def hotdecode(arr):\n",
    "    a = []\n",
    "    for i in range(len(arr)):\n",
    "        a.append(np.argmax(arr[i,:])+1)\n",
    "    return np.asarray(a)\n",
    "    "
   ]
  },
  {
   "cell_type": "markdown",
   "metadata": {},
   "source": [
    "## Part 1 - Loading dataset and Text Preprocessing\n",
    "_Include all text preprocesing steps like processing of json,csv files & data cleaning in this part._"
   ]
  },
  {
   "cell_type": "code",
   "execution_count": 3,
   "metadata": {},
   "outputs": [],
   "source": [
    "path_json = 'data/docs'\n",
    "path_csv = 'data'\n",
    "file_csv = os.path.join(path_csv, 'document_departments.csv')"
   ]
  },
  {
   "cell_type": "code",
   "execution_count": 4,
   "metadata": {},
   "outputs": [
    {
     "data": {
      "text/html": [
       "<div>\n",
       "<style scoped>\n",
       "    .dataframe tbody tr th:only-of-type {\n",
       "        vertical-align: middle;\n",
       "    }\n",
       "\n",
       "    .dataframe tbody tr th {\n",
       "        vertical-align: top;\n",
       "    }\n",
       "\n",
       "    .dataframe thead th {\n",
       "        text-align: right;\n",
       "    }\n",
       "</style>\n",
       "<table border=\"1\" class=\"dataframe\">\n",
       "  <thead>\n",
       "    <tr style=\"text-align: right;\">\n",
       "      <th></th>\n",
       "      <th>Document ID</th>\n",
       "      <th>Department</th>\n",
       "    </tr>\n",
       "  </thead>\n",
       "  <tbody>\n",
       "    <tr>\n",
       "      <th>0</th>\n",
       "      <td>8196431</td>\n",
       "      <td>Customer service</td>\n",
       "    </tr>\n",
       "    <tr>\n",
       "      <th>1</th>\n",
       "      <td>8278123</td>\n",
       "      <td>Digital Marketing</td>\n",
       "    </tr>\n",
       "    <tr>\n",
       "      <th>2</th>\n",
       "      <td>8331625</td>\n",
       "      <td>Sales</td>\n",
       "    </tr>\n",
       "    <tr>\n",
       "      <th>3</th>\n",
       "      <td>8331003</td>\n",
       "      <td>Back office ticketing</td>\n",
       "    </tr>\n",
       "    <tr>\n",
       "      <th>4</th>\n",
       "      <td>8277939</td>\n",
       "      <td>Digital Marketing</td>\n",
       "    </tr>\n",
       "  </tbody>\n",
       "</table>\n",
       "</div>"
      ],
      "text/plain": [
       "   Document ID             Department\n",
       "0      8196431       Customer service\n",
       "1      8278123      Digital Marketing\n",
       "2      8331625                  Sales\n",
       "3      8331003  Back office ticketing\n",
       "4      8277939      Digital Marketing"
      ]
     },
     "execution_count": 4,
     "metadata": {},
     "output_type": "execute_result"
    }
   ],
   "source": [
    "# Loading csv files\n",
    "data = pd.read_csv(file_csv)\n",
    "data.head(5)"
   ]
  },
  {
   "cell_type": "code",
   "execution_count": 5,
   "metadata": {},
   "outputs": [
    {
     "name": "stdout",
     "output_type": "stream",
     "text": [
      "Total number of dataset available 1162\n"
     ]
    }
   ],
   "source": [
    "# Total number of datapoints\n",
    "print('Total number of dataset available %d'%(len(data)))"
   ]
  },
  {
   "cell_type": "code",
   "execution_count": 7,
   "metadata": {
    "scrolled": true
   },
   "outputs": [
    {
     "data": {
      "text/plain": [
       "{'company_info': {'Company Description': \"cmts is engaged in the data entry outsourcing and supply of skilled/semi skilled &amp; unskilled Manpower across the industry spectrum. Our pool of manpower ranges from professionals such as Sales &amp; technical professionals in different categories, IT professionals, aviation sector, technical profiles, engineers, non-technical in-house professionals, administrative profiles, Accountant, HR, Back office, Data Entry Operator etc. Our organization's goal is total clients satisfaction through quality and personalized delivery of each and every service. We therefore exist to cater the need of these prospecting employers/companies since our inception in 2008.\",\n",
       "  'Email': 'hr@cmts.in',\n",
       "  'Company Name': 'CMTS (Core Management &amp; Technical Services)',\n",
       "  'Telephone': '9631857963'},\n",
       " 'api_data': {'job_location': ['Ludhiana'],\n",
       "  'jd_id': '6600981',\n",
       "  'job_keywords': ['Ticketing Executive for Tavel Company at Saanewal Ludhiana'],\n",
       "  'job_industry': 'Travel / Tourism',\n",
       "  'company_name': 'CMTS (Core Management & Technical Services)',\n",
       "  'job_experience': '1 to 3 Yrs',\n",
       "  'job_title': 'Ticketing Executive for Tavel Company at Saanewal Ludhiana'},\n",
       " 'other_details': {'Other Skills:': ['Ticketing Executive for Tavel Company at Saanewal Ludhiana'],\n",
       "  'Industry:': ['Travel / Tourism'],\n",
       "  'Department:': ['Reservation / Ticketing', 'Tour / Travel Management']},\n",
       " 'topbox_information': {'salary_information': 'Rs 1.0  - 2.0 Lakh/Yr'},\n",
       " 'jd_information': {'description': 'We Have urgent poitions for Ticketing Executive at Tour and Travel pacakge Company at saanewal Location.Post- Ticketing Executive,Travel ExecutiveExp-1-3 Yerassalary- 9-15kLocation- Saanewaal, G.T Road.Ludhiana.Thse Candiadtes will staying near by 10-15 Km they can apply on prior. Doraha, saanewaal, Dholewal,Khanna, or near by candidates can apply.Job Detail-* All Ticketing Activities: such as Issuance, Re-issuance, Revalidation,Cancellation and Refunds* knowledge of GDS (Amadeus/Sabre )- Not necessary for domastic* Documenting all activities* Follow ups with customers and clients for existing reservations.Intrested can call to Aditya kumar on 8527750087 or mail your cv on hr@cmts.in or cmts.hr@gmail.com&nbsp;male and Female both will consider for the post.'},\n",
       " '_id': '6600981'}"
      ]
     },
     "execution_count": 7,
     "metadata": {},
     "output_type": "execute_result"
    }
   ],
   "source": [
    "# Loading Json object for readability\n",
    "obj = json.load(open(os.path.join(path_json, str(data['Document ID'][78]) + '.json')))\n",
    "obj"
   ]
  },
  {
   "cell_type": "markdown",
   "metadata": {},
   "source": [
    "Useful Attributes\n",
    "1. job_keywords\n",
    "2. job_title\n",
    "3. Skills\n",
    "4. Department"
   ]
  },
  {
   "cell_type": "code",
   "execution_count": 9,
   "metadata": {
    "scrolled": true
   },
   "outputs": [
    {
     "name": "stdout",
     "output_type": "stream",
     "text": [
      "Number of attributes: 6\n"
     ]
    }
   ],
   "source": [
    "# Number of Major attributes in JSON object\n",
    "print('Number of attributes: %d'%(len(obj.keys())))"
   ]
  },
  {
   "cell_type": "markdown",
   "metadata": {},
   "source": [
    "### Part II: Exploratoty Data Analysis\n",
    "\n",
    "_Include EDA steps like finding distribution of Departments in this part, you may also use plots for EDA._"
   ]
  },
  {
   "cell_type": "markdown",
   "metadata": {},
   "source": [
    "### Counting datapoints from different department"
   ]
  },
  {
   "cell_type": "code",
   "execution_count": 10,
   "metadata": {},
   "outputs": [],
   "source": [
    "data['count'] = data['Department'].map(lambda c_row: 1 if isinstance(c_row, str) else 0)\n",
    "unique_img_ids = data.groupby('Department').agg({'count': 'sum'}).reset_index()"
   ]
  },
  {
   "cell_type": "code",
   "execution_count": 11,
   "metadata": {},
   "outputs": [
    {
     "data": {
      "text/html": [
       "<div>\n",
       "<style scoped>\n",
       "    .dataframe tbody tr th:only-of-type {\n",
       "        vertical-align: middle;\n",
       "    }\n",
       "\n",
       "    .dataframe tbody tr th {\n",
       "        vertical-align: top;\n",
       "    }\n",
       "\n",
       "    .dataframe thead th {\n",
       "        text-align: right;\n",
       "    }\n",
       "</style>\n",
       "<table border=\"1\" class=\"dataframe\">\n",
       "  <thead>\n",
       "    <tr style=\"text-align: right;\">\n",
       "      <th></th>\n",
       "      <th>Department</th>\n",
       "      <th>count</th>\n",
       "    </tr>\n",
       "  </thead>\n",
       "  <tbody>\n",
       "    <tr>\n",
       "      <th>0</th>\n",
       "      <td>Administration</td>\n",
       "      <td>38</td>\n",
       "    </tr>\n",
       "    <tr>\n",
       "      <th>1</th>\n",
       "      <td>Airline Ground Operations</td>\n",
       "      <td>4</td>\n",
       "    </tr>\n",
       "    <tr>\n",
       "      <th>2</th>\n",
       "      <td>Analytics</td>\n",
       "      <td>9</td>\n",
       "    </tr>\n",
       "    <tr>\n",
       "      <th>3</th>\n",
       "      <td>Back office ticketing</td>\n",
       "      <td>18</td>\n",
       "    </tr>\n",
       "    <tr>\n",
       "      <th>4</th>\n",
       "      <td>Content</td>\n",
       "      <td>6</td>\n",
       "    </tr>\n",
       "  </tbody>\n",
       "</table>\n",
       "</div>"
      ],
      "text/plain": [
       "                  Department  count\n",
       "0             Administration     38\n",
       "1  Airline Ground Operations      4\n",
       "2                  Analytics      9\n",
       "3      Back office ticketing     18\n",
       "4                    Content      6"
      ]
     },
     "execution_count": 11,
     "metadata": {},
     "output_type": "execute_result"
    }
   ],
   "source": [
    "unique_img_ids.head()"
   ]
  },
  {
   "cell_type": "markdown",
   "metadata": {},
   "source": [
    "### Creating a Hashmap of Departments and labels"
   ]
  },
  {
   "cell_type": "code",
   "execution_count": 13,
   "metadata": {},
   "outputs": [
    {
     "data": {
      "text/plain": [
       "array(['Administration', 'Airline Ground Operations', 'Analytics',\n",
       "       'Back office ticketing', 'Content', 'Customer service',\n",
       "       'Data entry', 'Digital Marketing',\n",
       "       'Engineering Design Construction', 'Finance', 'Flight Operations',\n",
       "       'IT', 'Learning and Development ', 'Logistics', 'Maintenance',\n",
       "       'Management Consulting', 'Marine Deck ', 'Marine Engineering ',\n",
       "       'Marine Service Steward ', 'Marketing', 'Operations', 'Presales ',\n",
       "       'Procurement', 'Public Relations ', 'QA ', 'Recruitment',\n",
       "       'Safety ', 'Sales', 'Technology', 'Ticketing'], dtype=object)"
      ]
     },
     "execution_count": 13,
     "metadata": {},
     "output_type": "execute_result"
    }
   ],
   "source": [
    "unique_img_ids['Department'].values"
   ]
  },
  {
   "cell_type": "code",
   "execution_count": 14,
   "metadata": {},
   "outputs": [],
   "source": [
    "depart_map = {}\n",
    "for i in range(len(unique_img_ids)):\n",
    "    depart_map[unique_img_ids['Department'][i]] = i+1"
   ]
  },
  {
   "cell_type": "code",
   "execution_count": 15,
   "metadata": {},
   "outputs": [
    {
     "name": "stdout",
     "output_type": "stream",
     "text": [
      "Number of departments: 30\n"
     ]
    }
   ],
   "source": [
    "# Number of different departments\n",
    "print('Number of departments: %d'%(len(unique_img_ids)))"
   ]
  },
  {
   "cell_type": "code",
   "execution_count": 16,
   "metadata": {},
   "outputs": [
    {
     "data": {
      "image/png": "[encoded data removed]",
      "text/plain": [
       "<Figure size 432x288 with 1 Axes>"
      ]
     },
     "metadata": {
      "needs_background": "light"
     },
     "output_type": "display_data"
    }
   ],
   "source": [
    "# Plotting number of jobs in different departments\n",
    "y_pos = np.arange(len(unique_img_ids))\n",
    "objects = unique_img_ids['Department']\n",
    "performance = unique_img_ids['count']\n",
    "plt.bar(y_pos, performance, align='center', alpha=0.5)\n",
    "plt.xticks(y_pos, objects)\n",
    "plt.ylabel('Jobs')\n",
    "plt.title('Departments/Jobs')\n",
    "\n",
    "plt.show()"
   ]
  },
  {
   "cell_type": "markdown",
   "metadata": {},
   "source": [
    "### Selecting important atttributes\n",
    "1. Department\n",
    "2. JobTitle\n",
    "3. JobKeywords"
   ]
  },
  {
   "cell_type": "code",
   "execution_count": 18,
   "metadata": {},
   "outputs": [],
   "source": [
    "n = len(data)\n",
    "label = []\n",
    "keyword = []"
   ]
  },
  {
   "cell_type": "code",
   "execution_count": 19,
   "metadata": {},
   "outputs": [],
   "source": [
    "# Creating a new dataframe for selected attributes only\n",
    "for i in range(n):\n",
    "    obj = json.load(open(os.path.join(path_json, str(data['Document ID'][i]) + '.json')))\n",
    "    department = obj['other_details']['Department:']\n",
    "    title = obj['api_data']['job_title']\n",
    "    obj = obj['api_data']['job_keywords']\n",
    "    \n",
    "    st = [st.strip(' ') for st in obj]\n",
    "    dp = [dp.strip(' ') for dp in department]\n",
    "    tt = [tt.strip(' ') for tt in title]\n",
    "    st = st + dp + tt\n",
    "    \n",
    "    str_join = \",\".join(st)\n",
    "    label.append(depart_map[data['Department'][i]])\n",
    "    keyword.append(str_join)"
   ]
  },
  {
   "cell_type": "markdown",
   "metadata": {},
   "source": [
    "### Creating a new dataframe from selected attributes and their respective labels"
   ]
  },
  {
   "cell_type": "code",
   "execution_count": 20,
   "metadata": {},
   "outputs": [
    {
     "data": {
      "text/html": [
       "<div>\n",
       "<style scoped>\n",
       "    .dataframe tbody tr th:only-of-type {\n",
       "        vertical-align: middle;\n",
       "    }\n",
       "\n",
       "    .dataframe tbody tr th {\n",
       "        vertical-align: top;\n",
       "    }\n",
       "\n",
       "    .dataframe thead th {\n",
       "        text-align: right;\n",
       "    }\n",
       "</style>\n",
       "<table border=\"1\" class=\"dataframe\">\n",
       "  <thead>\n",
       "    <tr style=\"text-align: right;\">\n",
       "      <th></th>\n",
       "      <th>label</th>\n",
       "    </tr>\n",
       "  </thead>\n",
       "  <tbody>\n",
       "    <tr>\n",
       "      <th>0</th>\n",
       "      <td>6</td>\n",
       "    </tr>\n",
       "    <tr>\n",
       "      <th>1</th>\n",
       "      <td>8</td>\n",
       "    </tr>\n",
       "    <tr>\n",
       "      <th>2</th>\n",
       "      <td>28</td>\n",
       "    </tr>\n",
       "    <tr>\n",
       "      <th>3</th>\n",
       "      <td>4</td>\n",
       "    </tr>\n",
       "    <tr>\n",
       "      <th>4</th>\n",
       "      <td>8</td>\n",
       "    </tr>\n",
       "  </tbody>\n",
       "</table>\n",
       "</div>"
      ],
      "text/plain": [
       "   label\n",
       "0      6\n",
       "1      8\n",
       "2     28\n",
       "3      4\n",
       "4      8"
      ]
     },
     "execution_count": 20,
     "metadata": {},
     "output_type": "execute_result"
    }
   ],
   "source": [
    "df = []\n",
    "df = pd.DataFrame(label, columns=['label'])\n",
    "df.head()"
   ]
  },
  {
   "cell_type": "code",
   "execution_count": 21,
   "metadata": {},
   "outputs": [
    {
     "data": {
      "text/html": [
       "<div>\n",
       "<style scoped>\n",
       "    .dataframe tbody tr th:only-of-type {\n",
       "        vertical-align: middle;\n",
       "    }\n",
       "\n",
       "    .dataframe tbody tr th {\n",
       "        vertical-align: top;\n",
       "    }\n",
       "\n",
       "    .dataframe thead th {\n",
       "        text-align: right;\n",
       "    }\n",
       "</style>\n",
       "<table border=\"1\" class=\"dataframe\">\n",
       "  <thead>\n",
       "    <tr style=\"text-align: right;\">\n",
       "      <th></th>\n",
       "      <th>keyword</th>\n",
       "    </tr>\n",
       "  </thead>\n",
       "  <tbody>\n",
       "    <tr>\n",
       "      <th>0</th>\n",
       "      <td>telesales,telemarketing,communication,call cen...</td>\n",
       "    </tr>\n",
       "    <tr>\n",
       "      <th>1</th>\n",
       "      <td>internet media,facebook marketing,online adver...</td>\n",
       "    </tr>\n",
       "    <tr>\n",
       "      <th>2</th>\n",
       "      <td>immigration,canada pr,australia pr,client serv...</td>\n",
       "    </tr>\n",
       "    <tr>\n",
       "      <th>3</th>\n",
       "      <td>documentation,,Back Office Operations,F,r,e,s,...</td>\n",
       "    </tr>\n",
       "    <tr>\n",
       "      <th>4</th>\n",
       "      <td>internet media,facebook marketing,online adver...</td>\n",
       "    </tr>\n",
       "  </tbody>\n",
       "</table>\n",
       "</div>"
      ],
      "text/plain": [
       "                                             keyword\n",
       "0  telesales,telemarketing,communication,call cen...\n",
       "1  internet media,facebook marketing,online adver...\n",
       "2  immigration,canada pr,australia pr,client serv...\n",
       "3  documentation,,Back Office Operations,F,r,e,s,...\n",
       "4  internet media,facebook marketing,online adver..."
      ]
     },
     "execution_count": 21,
     "metadata": {},
     "output_type": "execute_result"
    }
   ],
   "source": [
    "df2 = pd.DataFrame(keyword, columns=['keyword'])\n",
    "df2.head()"
   ]
  },
  {
   "cell_type": "code",
   "execution_count": 22,
   "metadata": {},
   "outputs": [
    {
     "data": {
      "text/html": [
       "<div>\n",
       "<style scoped>\n",
       "    .dataframe tbody tr th:only-of-type {\n",
       "        vertical-align: middle;\n",
       "    }\n",
       "\n",
       "    .dataframe tbody tr th {\n",
       "        vertical-align: top;\n",
       "    }\n",
       "\n",
       "    .dataframe thead th {\n",
       "        text-align: right;\n",
       "    }\n",
       "</style>\n",
       "<table border=\"1\" class=\"dataframe\">\n",
       "  <thead>\n",
       "    <tr style=\"text-align: right;\">\n",
       "      <th></th>\n",
       "      <th>label</th>\n",
       "      <th>keyword</th>\n",
       "    </tr>\n",
       "  </thead>\n",
       "  <tbody>\n",
       "    <tr>\n",
       "      <th>0</th>\n",
       "      <td>6</td>\n",
       "      <td>telesales,telemarketing,communication,call cen...</td>\n",
       "    </tr>\n",
       "    <tr>\n",
       "      <th>1</th>\n",
       "      <td>8</td>\n",
       "      <td>internet media,facebook marketing,online adver...</td>\n",
       "    </tr>\n",
       "    <tr>\n",
       "      <th>2</th>\n",
       "      <td>28</td>\n",
       "      <td>immigration,canada pr,australia pr,client serv...</td>\n",
       "    </tr>\n",
       "    <tr>\n",
       "      <th>3</th>\n",
       "      <td>4</td>\n",
       "      <td>documentation,,Back Office Operations,F,r,e,s,...</td>\n",
       "    </tr>\n",
       "    <tr>\n",
       "      <th>4</th>\n",
       "      <td>8</td>\n",
       "      <td>internet media,facebook marketing,online adver...</td>\n",
       "    </tr>\n",
       "  </tbody>\n",
       "</table>\n",
       "</div>"
      ],
      "text/plain": [
       "   label                                            keyword\n",
       "0      6  telesales,telemarketing,communication,call cen...\n",
       "1      8  internet media,facebook marketing,online adver...\n",
       "2     28  immigration,canada pr,australia pr,client serv...\n",
       "3      4  documentation,,Back Office Operations,F,r,e,s,...\n",
       "4      8  internet media,facebook marketing,online adver..."
      ]
     },
     "execution_count": 22,
     "metadata": {},
     "output_type": "execute_result"
    }
   ],
   "source": [
    "df = df.merge(df2, left_index=True, right_index=True)\n",
    "df.head()"
   ]
  },
  {
   "cell_type": "code",
   "execution_count": 23,
   "metadata": {},
   "outputs": [],
   "source": [
    "x = df['keyword'].values\n",
    "y = df['label'].values"
   ]
  },
  {
   "cell_type": "markdown",
   "metadata": {},
   "source": [
    "### Data Imbalance Situation\n",
    "Here we can clearly see that data classes given are not uniform. This is dealt in the later section"
   ]
  },
  {
   "cell_type": "code",
   "execution_count": 52,
   "metadata": {
    "scrolled": true
   },
   "outputs": [
    {
     "data": {
      "text/plain": [
       "30    347\n",
       "28    270\n",
       "8     151\n",
       "6      69\n",
       "20     50\n",
       "10     42\n",
       "21     41\n",
       "1      38\n",
       "15     28\n",
       "12     20\n",
       "4      18\n",
       "16     12\n",
       "29     10\n",
       "22     10\n",
       "3       9\n",
       "9       7\n",
       "26      6\n",
       "5       6\n",
       "24      5\n",
       "2       4\n",
       "18      3\n",
       "14      3\n",
       "17      2\n",
       "19      2\n",
       "25      2\n",
       "7       2\n",
       "11      2\n",
       "13      1\n",
       "23      1\n",
       "27      1\n",
       "Name: label, dtype: int64"
      ]
     },
     "execution_count": 52,
     "metadata": {},
     "output_type": "execute_result"
    }
   ],
   "source": [
    "df['label'].value_counts()"
   ]
  },
  {
   "cell_type": "markdown",
   "metadata": {},
   "source": [
    "### Part III: Modelling & Evaluation\n",
    "\n",
    "_Include all model prepration & evaluation steps in this part._"
   ]
  },
  {
   "cell_type": "markdown",
   "metadata": {},
   "source": [
    "Spliting dataset into Training and Testing"
   ]
  },
  {
   "cell_type": "code",
   "execution_count": 24,
   "metadata": {},
   "outputs": [],
   "source": [
    "x_train, x_test, y_train, y_test = train_test_split(x, y, test_size=0.25)"
   ]
  },
  {
   "cell_type": "code",
   "execution_count": 25,
   "metadata": {},
   "outputs": [
    {
     "name": "stdout",
     "output_type": "stream",
     "text": [
      "size of x_train (871,), x_test (291,), y_train (871,), y_test (291,)\n"
     ]
    }
   ],
   "source": [
    "print('size of x_train %s, x_test %s, y_train %s, y_test %s'%(x_train.shape, x_test.shape, y_train.shape, y_test.shape))"
   ]
  },
  {
   "cell_type": "markdown",
   "metadata": {},
   "source": [
    "### Vectorization of words\n",
    "Generating feature vector"
   ]
  },
  {
   "cell_type": "code",
   "execution_count": 26,
   "metadata": {},
   "outputs": [
    {
     "data": {
      "text/plain": [
       "<871x1302 sparse matrix of type '<class 'numpy.int64'>'\n",
       "\twith 9292 stored elements in Compressed Sparse Row format>"
      ]
     },
     "execution_count": 26,
     "metadata": {},
     "output_type": "execute_result"
    }
   ],
   "source": [
    "vectorizer = CountVectorizer()\n",
    "vectorizer.fit(x_train)\n",
    "\n",
    "X_train = vectorizer.transform(x_train)\n",
    "X_test  = vectorizer.transform(x_test)\n",
    "X_train"
   ]
  },
  {
   "cell_type": "markdown",
   "metadata": {},
   "source": [
    "Hotencoding of labels"
   ]
  },
  {
   "cell_type": "code",
   "execution_count": 43,
   "metadata": {},
   "outputs": [],
   "source": [
    "y_train_hot = hotencode(y_train)\n",
    "y_test_hot = hotencode(y_test)"
   ]
  },
  {
   "cell_type": "markdown",
   "metadata": {},
   "source": [
    "## Number of Classifiers"
   ]
  },
  {
   "cell_type": "markdown",
   "metadata": {},
   "source": [
    "### 1. Logistic Regression"
   ]
  },
  {
   "cell_type": "code",
   "execution_count": 45,
   "metadata": {},
   "outputs": [
    {
     "name": "stdout",
     "output_type": "stream",
     "text": [
      "Accuracy of Logistic classifier: 90.38000000000001\n"
     ]
    }
   ],
   "source": [
    "logistic = LogisticRegression(class_weight='balanced')\n",
    "logistic.fit(X_train, y_train)\n",
    "score = logistic.score(X_test, y_test)\n",
    "\n",
    "print(\"Accuracy of Logistic classifier:\", round(score,4)*100)"
   ]
  },
  {
   "cell_type": "markdown",
   "metadata": {},
   "source": [
    "### 2. Stochastic Gradient Descent"
   ]
  },
  {
   "cell_type": "code",
   "execution_count": 29,
   "metadata": {},
   "outputs": [
    {
     "name": "stdout",
     "output_type": "stream",
     "text": [
      "Accuracy of sgd classifier: 84.19\n"
     ]
    }
   ],
   "source": [
    "sgd = sklearn.linear_model.SGDClassifier(class_weight='balanced')\n",
    "sgd.fit(X_train, y_train)\n",
    "score = sgd.score(X_test, y_test)\n",
    "\n",
    "print(\"Accuracy of sgd classifier:\", round(score,4)*100)"
   ]
  },
  {
   "cell_type": "markdown",
   "metadata": {},
   "source": [
    "### 3. Decision Tree"
   ]
  },
  {
   "cell_type": "code",
   "execution_count": 46,
   "metadata": {},
   "outputs": [
    {
     "name": "stdout",
     "output_type": "stream",
     "text": [
      "Accuracy of tree classifier: 85.22\n"
     ]
    }
   ],
   "source": [
    "tree = DecisionTreeClassifier(class_weight='balanced')\n",
    "tree.fit(X_train, y_train)\n",
    "score = tree.score(X_test, y_test)\n",
    "\n",
    "print(\"Accuracy of tree classifier:\", round(score,4)*100)"
   ]
  },
  {
   "cell_type": "markdown",
   "metadata": {},
   "source": [
    "### 4. Random Forest"
   ]
  },
  {
   "cell_type": "code",
   "execution_count": 47,
   "metadata": {},
   "outputs": [
    {
     "name": "stdout",
     "output_type": "stream",
     "text": [
      "Accuracy of forest classifier: 86.25\n"
     ]
    }
   ],
   "source": [
    "forest = RandomForestClassifier(class_weight='balanced')\n",
    "forest.fit(X_train, y_train)\n",
    "score = forest.score(X_test, y_test)\n",
    "\n",
    "print(\"Accuracy of forest classifier:\", round(score,4)*100)"
   ]
  },
  {
   "cell_type": "code",
   "execution_count": 50,
   "metadata": {
    "scrolled": true
   },
   "outputs": [],
   "source": [
    "y_pred = forest.predict(X_test)\n",
    "cm=confusion_matrix(y_test, y_pred)"
   ]
  },
  {
   "cell_type": "code",
   "execution_count": 51,
   "metadata": {},
   "outputs": [
    {
     "data": {
      "text/plain": [
       "<matplotlib.axes._subplots.AxesSubplot at 0x123dc4518>"
      ]
     },
     "execution_count": 51,
     "metadata": {},
     "output_type": "execute_result"
    },
    {
     "data": {
      "image/png": "[encoded data removed]",
      "text/plain": [
       "<Figure size 720x504 with 2 Axes>"
      ]
     },
     "metadata": {
      "needs_background": "light"
     },
     "output_type": "display_data"
    }
   ],
   "source": [
    "index = columns = [i for i in range(len(cm))]\n",
    "df_cm = pd.DataFrame(cm, index = index,\n",
    "                  columns = columns)\n",
    "plt.figure(figsize = (10,7))\n",
    "sn.heatmap(df_cm, annot=True)"
   ]
  },
  {
   "cell_type": "markdown",
   "metadata": {},
   "source": [
    "### 5. Simple Neural Network"
   ]
  },
  {
   "cell_type": "code",
   "execution_count": 32,
   "metadata": {},
   "outputs": [
    {
     "name": "stderr",
     "output_type": "stream",
     "text": [
      "Using TensorFlow backend.\n"
     ]
    },
    {
     "name": "stdout",
     "output_type": "stream",
     "text": [
      "WARNING:tensorflow:From /Users/manishsahu/miniconda3/envs/py3/lib/python3.6/site-packages/tensorflow/python/framework/op_def_library.py:263: colocate_with (from tensorflow.python.framework.ops) is deprecated and will be removed in a future version.\n",
      "Instructions for updating:\n",
      "Colocations handled automatically by placer.\n"
     ]
    }
   ],
   "source": [
    "from keras.models import Sequential\n",
    "from keras import layers\n",
    "\n",
    "input_dim = X_train.shape[1]  # Number of features\n",
    "\n",
    "model = Sequential()\n",
    "model.add(layers.Dense(10, input_dim=input_dim, activation='relu'))\n",
    "model.add(layers.Dense(30, activation='sigmoid'))"
   ]
  },
  {
   "cell_type": "code",
   "execution_count": 33,
   "metadata": {},
   "outputs": [
    {
     "name": "stdout",
     "output_type": "stream",
     "text": [
      "_________________________________________________________________\n",
      "Layer (type)                 Output Shape              Param #   \n",
      "=================================================================\n",
      "dense_1 (Dense)              (None, 10)                12740     \n",
      "_________________________________________________________________\n",
      "dense_2 (Dense)              (None, 30)                330       \n",
      "=================================================================\n",
      "Total params: 13,070\n",
      "Trainable params: 13,070\n",
      "Non-trainable params: 0\n",
      "_________________________________________________________________\n"
     ]
    }
   ],
   "source": [
    "model.compile(loss='categorical_crossentropy', \n",
    "                   optimizer='adam', \n",
    "                   metrics=['accuracy'])\n",
    "model.summary()"
   ]
  },
  {
   "cell_type": "code",
   "execution_count": 36,
   "metadata": {},
   "outputs": [
    {
     "name": "stdout",
     "output_type": "stream",
     "text": [
      "WARNING:tensorflow:From /Users/manishsahu/miniconda3/envs/py3/lib/python3.6/site-packages/tensorflow/python/ops/math_ops.py:3066: to_int32 (from tensorflow.python.ops.math_ops) is deprecated and will be removed in a future version.\n",
      "Instructions for updating:\n",
      "Use tf.cast instead.\n",
      "Train on 871 samples, validate on 291 samples\n",
      "Epoch 1/100\n",
      "871/871 [==============================] - 1s 1ms/step - loss: 3.3083 - acc: 0.4018 - val_loss: 3.1794 - val_acc: 0.6151\n",
      "Epoch 2/100\n",
      "871/871 [==============================] - 0s 504us/step - loss: 2.9135 - acc: 0.6659 - val_loss: 2.6686 - val_acc: 0.6323\n",
      "Epoch 3/100\n",
      "871/871 [==============================] - 0s 526us/step - loss: 2.2240 - acc: 0.6211 - val_loss: 2.0426 - val_acc: 0.5739\n",
      "Epoch 4/100\n",
      "871/871 [==============================] - 1s 687us/step - loss: 1.6282 - acc: 0.6234 - val_loss: 1.6476 - val_acc: 0.6357\n",
      "Epoch 5/100\n",
      "871/871 [==============================] - 0s 556us/step - loss: 1.2208 - acc: 0.7141 - val_loss: 1.3789 - val_acc: 0.6907\n",
      "Epoch 6/100\n",
      "871/871 [==============================] - 0s 477us/step - loss: 0.9724 - acc: 0.7899 - val_loss: 1.2357 - val_acc: 0.7354\n",
      "Epoch 7/100\n",
      "871/871 [==============================] - 1s 663us/step - loss: 0.8123 - acc: 0.8140 - val_loss: 1.1230 - val_acc: 0.7457\n",
      "Epoch 8/100\n",
      "871/871 [==============================] - 0s 389us/step - loss: 0.6937 - acc: 0.8553 - val_loss: 1.0475 - val_acc: 0.7698\n",
      "Epoch 9/100\n",
      "871/871 [==============================] - 0s 572us/step - loss: 0.6019 - acc: 0.8794 - val_loss: 0.9881 - val_acc: 0.7869\n",
      "Epoch 10/100\n",
      "871/871 [==============================] - 1s 665us/step - loss: 0.5276 - acc: 0.9024 - val_loss: 0.9420 - val_acc: 0.7904\n",
      "Epoch 11/100\n",
      "871/871 [==============================] - 0s 479us/step - loss: 0.4650 - acc: 0.9173 - val_loss: 0.8958 - val_acc: 0.8041\n",
      "Epoch 12/100\n",
      "871/871 [==============================] - 0s 395us/step - loss: 0.4121 - acc: 0.9196 - val_loss: 0.8562 - val_acc: 0.8144\n",
      "Epoch 13/100\n",
      "871/871 [==============================] - 0s 510us/step - loss: 0.3679 - acc: 0.9277 - val_loss: 0.8679 - val_acc: 0.8179\n",
      "Epoch 14/100\n",
      "871/871 [==============================] - 0s 440us/step - loss: 0.3307 - acc: 0.9357 - val_loss: 0.7995 - val_acc: 0.8213\n",
      "Epoch 15/100\n",
      "871/871 [==============================] - 0s 396us/step - loss: 0.2993 - acc: 0.9403 - val_loss: 0.8515 - val_acc: 0.8282\n",
      "Epoch 16/100\n",
      "871/871 [==============================] - 0s 381us/step - loss: 0.2712 - acc: 0.9483 - val_loss: 0.8308 - val_acc: 0.8351\n",
      "Epoch 17/100\n",
      "871/871 [==============================] - 1s 733us/step - loss: 0.2480 - acc: 0.9518 - val_loss: 0.8272 - val_acc: 0.8419\n",
      "Epoch 18/100\n",
      "871/871 [==============================] - 0s 445us/step - loss: 0.2272 - acc: 0.9529 - val_loss: 0.7969 - val_acc: 0.8419\n",
      "Epoch 19/100\n",
      "871/871 [==============================] - 1s 689us/step - loss: 0.2077 - acc: 0.9541 - val_loss: 0.7755 - val_acc: 0.8557\n",
      "Epoch 20/100\n",
      "871/871 [==============================] - 0s 538us/step - loss: nan - acc: 0.7118 - val_loss: nan - val_acc: 0.0103\n",
      "Epoch 21/100\n",
      "871/871 [==============================] - 0s 522us/step - loss: nan - acc: 0.0402 - val_loss: nan - val_acc: 0.0103\n",
      "Epoch 22/100\n",
      "871/871 [==============================] - 0s 532us/step - loss: nan - acc: 0.0402 - val_loss: nan - val_acc: 0.0103\n",
      "Epoch 23/100\n",
      "871/871 [==============================] - 0s 524us/step - loss: nan - acc: 0.0402 - val_loss: nan - val_acc: 0.0103\n",
      "Epoch 24/100\n",
      "871/871 [==============================] - 1s 667us/step - loss: nan - acc: 0.0402 - val_loss: nan - val_acc: 0.0103\n",
      "Epoch 25/100\n",
      "871/871 [==============================] - 0s 556us/step - loss: nan - acc: 0.0402 - val_loss: nan - val_acc: 0.0103\n",
      "Epoch 26/100\n",
      "871/871 [==============================] - 1s 614us/step - loss: nan - acc: 0.0402 - val_loss: nan - val_acc: 0.0103\n",
      "Epoch 27/100\n",
      "871/871 [==============================] - 1s 581us/step - loss: nan - acc: 0.0402 - val_loss: nan - val_acc: 0.0103\n",
      "Epoch 28/100\n",
      "871/871 [==============================] - 1s 747us/step - loss: nan - acc: 0.0402 - val_loss: nan - val_acc: 0.0103\n",
      "Epoch 29/100\n",
      "871/871 [==============================] - 1s 918us/step - loss: nan - acc: 0.0402 - val_loss: nan - val_acc: 0.0103\n",
      "Epoch 30/100\n",
      "871/871 [==============================] - 0s 563us/step - loss: nan - acc: 0.0402 - val_loss: nan - val_acc: 0.0103\n",
      "Epoch 31/100\n",
      "871/871 [==============================] - 1s 1ms/step - loss: nan - acc: 0.0402 - val_loss: nan - val_acc: 0.0103\n",
      "Epoch 32/100\n",
      "871/871 [==============================] - 1s 799us/step - loss: nan - acc: 0.0402 - val_loss: nan - val_acc: 0.0103\n",
      "Epoch 33/100\n",
      "871/871 [==============================] - 1s 729us/step - loss: nan - acc: 0.0402 - val_loss: nan - val_acc: 0.0103\n",
      "Epoch 34/100\n",
      "871/871 [==============================] - 1s 794us/step - loss: nan - acc: 0.0402 - val_loss: nan - val_acc: 0.0103\n",
      "Epoch 35/100\n",
      "871/871 [==============================] - 0s 525us/step - loss: nan - acc: 0.0402 - val_loss: nan - val_acc: 0.0103\n",
      "Epoch 36/100\n",
      "871/871 [==============================] - 0s 510us/step - loss: nan - acc: 0.0402 - val_loss: nan - val_acc: 0.0103\n",
      "Epoch 37/100\n",
      "871/871 [==============================] - 0s 359us/step - loss: nan - acc: 0.0402 - val_loss: nan - val_acc: 0.0103\n",
      "Epoch 38/100\n",
      "871/871 [==============================] - 0s 513us/step - loss: nan - acc: 0.0402 - val_loss: nan - val_acc: 0.0103\n",
      "Epoch 39/100\n",
      "871/871 [==============================] - 0s 500us/step - loss: nan - acc: 0.0402 - val_loss: nan - val_acc: 0.0103\n",
      "Epoch 40/100\n",
      "871/871 [==============================] - 0s 311us/step - loss: nan - acc: 0.0402 - val_loss: nan - val_acc: 0.0103\n",
      "Epoch 41/100\n",
      "871/871 [==============================] - 0s 535us/step - loss: nan - acc: 0.0402 - val_loss: nan - val_acc: 0.0103\n",
      "Epoch 42/100\n",
      "871/871 [==============================] - 0s 452us/step - loss: nan - acc: 0.0402 - val_loss: nan - val_acc: 0.0103\n",
      "Epoch 43/100\n",
      "871/871 [==============================] - 0s 538us/step - loss: nan - acc: 0.0402 - val_loss: nan - val_acc: 0.0103\n",
      "Epoch 44/100\n",
      "871/871 [==============================] - 0s 419us/step - loss: nan - acc: 0.0402 - val_loss: nan - val_acc: 0.0103\n",
      "Epoch 45/100\n",
      "871/871 [==============================] - 0s 472us/step - loss: nan - acc: 0.0402 - val_loss: nan - val_acc: 0.0103\n",
      "Epoch 46/100\n",
      "871/871 [==============================] - 0s 483us/step - loss: nan - acc: 0.0402 - val_loss: nan - val_acc: 0.0103\n",
      "Epoch 47/100\n",
      "871/871 [==============================] - 0s 399us/step - loss: nan - acc: 0.0402 - val_loss: nan - val_acc: 0.0103\n",
      "Epoch 48/100\n",
      "871/871 [==============================] - 0s 394us/step - loss: nan - acc: 0.0402 - val_loss: nan - val_acc: 0.0103\n",
      "Epoch 49/100\n",
      "871/871 [==============================] - 1s 684us/step - loss: nan - acc: 0.0402 - val_loss: nan - val_acc: 0.0103\n",
      "Epoch 50/100\n",
      "871/871 [==============================] - 1s 614us/step - loss: nan - acc: 0.0402 - val_loss: nan - val_acc: 0.0103\n",
      "Epoch 51/100\n",
      "871/871 [==============================] - 0s 463us/step - loss: nan - acc: 0.0402 - val_loss: nan - val_acc: 0.0103\n",
      "Epoch 52/100\n",
      "871/871 [==============================] - 0s 494us/step - loss: nan - acc: 0.0402 - val_loss: nan - val_acc: 0.0103\n",
      "Epoch 53/100\n",
      "871/871 [==============================] - 0s 408us/step - loss: nan - acc: 0.0402 - val_loss: nan - val_acc: 0.0103\n",
      "Epoch 54/100\n",
      "871/871 [==============================] - 0s 574us/step - loss: nan - acc: 0.0402 - val_loss: nan - val_acc: 0.0103\n",
      "Epoch 55/100\n",
      "871/871 [==============================] - 0s 451us/step - loss: nan - acc: 0.0402 - val_loss: nan - val_acc: 0.0103\n",
      "Epoch 56/100\n",
      "871/871 [==============================] - 0s 421us/step - loss: nan - acc: 0.0402 - val_loss: nan - val_acc: 0.0103\n",
      "Epoch 57/100\n",
      "871/871 [==============================] - 0s 467us/step - loss: nan - acc: 0.0402 - val_loss: nan - val_acc: 0.0103\n",
      "Epoch 58/100\n",
      "871/871 [==============================] - 1s 749us/step - loss: nan - acc: 0.0402 - val_loss: nan - val_acc: 0.0103\n",
      "Epoch 59/100\n",
      "871/871 [==============================] - 1s 637us/step - loss: nan - acc: 0.0402 - val_loss: nan - val_acc: 0.0103\n",
      "Epoch 60/100\n",
      "871/871 [==============================] - 1s 697us/step - loss: nan - acc: 0.0402 - val_loss: nan - val_acc: 0.0103\n"
     ]
    },
    {
     "name": "stdout",
     "output_type": "stream",
     "text": [
      "Epoch 61/100\n",
      "871/871 [==============================] - 0s 558us/step - loss: nan - acc: 0.0402 - val_loss: nan - val_acc: 0.0103\n",
      "Epoch 62/100\n",
      "871/871 [==============================] - 0s 551us/step - loss: nan - acc: 0.0402 - val_loss: nan - val_acc: 0.0103\n",
      "Epoch 63/100\n",
      "871/871 [==============================] - 0s 515us/step - loss: nan - acc: 0.0402 - val_loss: nan - val_acc: 0.0103\n",
      "Epoch 64/100\n",
      "871/871 [==============================] - 0s 494us/step - loss: nan - acc: 0.0402 - val_loss: nan - val_acc: 0.0103\n",
      "Epoch 65/100\n",
      "871/871 [==============================] - 1s 607us/step - loss: nan - acc: 0.0402 - val_loss: nan - val_acc: 0.0103\n",
      "Epoch 66/100\n",
      "871/871 [==============================] - 0s 461us/step - loss: nan - acc: 0.0402 - val_loss: nan - val_acc: 0.0103\n",
      "Epoch 67/100\n",
      "871/871 [==============================] - 0s 471us/step - loss: nan - acc: 0.0402 - val_loss: nan - val_acc: 0.0103\n",
      "Epoch 68/100\n",
      "871/871 [==============================] - 0s 560us/step - loss: nan - acc: 0.0402 - val_loss: nan - val_acc: 0.0103\n",
      "Epoch 69/100\n",
      "871/871 [==============================] - 0s 539us/step - loss: nan - acc: 0.0402 - val_loss: nan - val_acc: 0.0103\n",
      "Epoch 70/100\n",
      "871/871 [==============================] - 0s 564us/step - loss: nan - acc: 0.0402 - val_loss: nan - val_acc: 0.0103\n",
      "Epoch 71/100\n",
      "871/871 [==============================] - 0s 533us/step - loss: nan - acc: 0.0402 - val_loss: nan - val_acc: 0.0103\n",
      "Epoch 72/100\n",
      "871/871 [==============================] - 1s 650us/step - loss: nan - acc: 0.0402 - val_loss: nan - val_acc: 0.0103\n",
      "Epoch 73/100\n",
      "871/871 [==============================] - 1s 658us/step - loss: nan - acc: 0.0402 - val_loss: nan - val_acc: 0.0103\n",
      "Epoch 74/100\n",
      "871/871 [==============================] - 0s 516us/step - loss: nan - acc: 0.0402 - val_loss: nan - val_acc: 0.0103\n",
      "Epoch 75/100\n",
      "871/871 [==============================] - 1s 669us/step - loss: nan - acc: 0.0402 - val_loss: nan - val_acc: 0.0103\n",
      "Epoch 76/100\n",
      "871/871 [==============================] - 0s 572us/step - loss: nan - acc: 0.0402 - val_loss: nan - val_acc: 0.0103\n",
      "Epoch 77/100\n",
      "871/871 [==============================] - 0s 521us/step - loss: nan - acc: 0.0402 - val_loss: nan - val_acc: 0.0103\n",
      "Epoch 78/100\n",
      "871/871 [==============================] - 0s 463us/step - loss: nan - acc: 0.0402 - val_loss: nan - val_acc: 0.0103\n",
      "Epoch 79/100\n",
      "871/871 [==============================] - 1s 776us/step - loss: nan - acc: 0.0402 - val_loss: nan - val_acc: 0.0103\n",
      "Epoch 80/100\n",
      "871/871 [==============================] - 0s 554us/step - loss: nan - acc: 0.0402 - val_loss: nan - val_acc: 0.0103\n",
      "Epoch 81/100\n",
      "871/871 [==============================] - 1s 608us/step - loss: nan - acc: 0.0402 - val_loss: nan - val_acc: 0.0103\n",
      "Epoch 82/100\n",
      "871/871 [==============================] - 0s 471us/step - loss: nan - acc: 0.0402 - val_loss: nan - val_acc: 0.0103\n",
      "Epoch 83/100\n",
      "871/871 [==============================] - 0s 573us/step - loss: nan - acc: 0.0402 - val_loss: nan - val_acc: 0.0103\n",
      "Epoch 84/100\n",
      "871/871 [==============================] - 0s 516us/step - loss: nan - acc: 0.0402 - val_loss: nan - val_acc: 0.0103\n",
      "Epoch 85/100\n",
      "871/871 [==============================] - 0s 537us/step - loss: nan - acc: 0.0402 - val_loss: nan - val_acc: 0.0103\n",
      "Epoch 86/100\n",
      "871/871 [==============================] - 1s 630us/step - loss: nan - acc: 0.0402 - val_loss: nan - val_acc: 0.0103\n",
      "Epoch 87/100\n",
      "871/871 [==============================] - 1s 898us/step - loss: nan - acc: 0.0402 - val_loss: nan - val_acc: 0.0103\n",
      "Epoch 88/100\n",
      "871/871 [==============================] - 1s 689us/step - loss: nan - acc: 0.0402 - val_loss: nan - val_acc: 0.0103\n",
      "Epoch 89/100\n",
      "871/871 [==============================] - 1s 631us/step - loss: nan - acc: 0.0402 - val_loss: nan - val_acc: 0.0103\n",
      "Epoch 90/100\n",
      "871/871 [==============================] - 1s 575us/step - loss: nan - acc: 0.0402 - val_loss: nan - val_acc: 0.0103\n",
      "Epoch 91/100\n",
      "871/871 [==============================] - 1s 590us/step - loss: nan - acc: 0.0402 - val_loss: nan - val_acc: 0.0103\n",
      "Epoch 92/100\n",
      "871/871 [==============================] - 0s 461us/step - loss: nan - acc: 0.0402 - val_loss: nan - val_acc: 0.0103\n",
      "Epoch 93/100\n",
      "871/871 [==============================] - 1s 626us/step - loss: nan - acc: 0.0402 - val_loss: nan - val_acc: 0.0103\n",
      "Epoch 94/100\n",
      "871/871 [==============================] - 0s 499us/step - loss: nan - acc: 0.0402 - val_loss: nan - val_acc: 0.0103\n",
      "Epoch 95/100\n",
      "871/871 [==============================] - 1s 662us/step - loss: nan - acc: 0.0402 - val_loss: nan - val_acc: 0.0103\n",
      "Epoch 96/100\n",
      "871/871 [==============================] - 0s 475us/step - loss: nan - acc: 0.0402 - val_loss: nan - val_acc: 0.0103\n",
      "Epoch 97/100\n",
      "871/871 [==============================] - 1s 673us/step - loss: nan - acc: 0.0402 - val_loss: nan - val_acc: 0.0103\n",
      "Epoch 98/100\n",
      "871/871 [==============================] - 1s 594us/step - loss: nan - acc: 0.0402 - val_loss: nan - val_acc: 0.0103\n",
      "Epoch 99/100\n",
      "871/871 [==============================] - 1s 648us/step - loss: nan - acc: 0.0402 - val_loss: nan - val_acc: 0.0103\n",
      "Epoch 100/100\n",
      "871/871 [==============================] - 0s 512us/step - loss: nan - acc: 0.0402 - val_loss: nan - val_acc: 0.0103\n"
     ]
    }
   ],
   "source": [
    "history = model.fit(X_train, y_train_hot,\n",
    "                 epochs=100,\n",
    "                 verbose=True,\n",
    "                 validation_data=(X_test, y_test_hot),\n",
    "                 batch_size=10)"
   ]
  },
  {
   "cell_type": "code",
   "execution_count": 37,
   "metadata": {},
   "outputs": [
    {
     "name": "stdout",
     "output_type": "stream",
     "text": [
      "Testing Accuracy:  0.0103\n"
     ]
    }
   ],
   "source": [
    "loss, accuracy = model.evaluate(X_test, y_test_hot, verbose=False)\n",
    "print(\"Testing Accuracy:  {:.4f}\".format(accuracy))"
   ]
  },
  {
   "cell_type": "code",
   "execution_count": 192,
   "metadata": {},
   "outputs": [],
   "source": [
    "import matplotlib.pyplot as plt\n",
    "plt.style.use('ggplot')\n",
    "\n",
    "def plot_history(history):\n",
    "    acc = history.history['acc']\n",
    "    val_acc = history.history['val_acc']\n",
    "    loss = history.history['loss']\n",
    "    val_loss = history.history['val_loss']\n",
    "    x = range(1, len(acc) + 1)\n",
    "\n",
    "    plt.figure(figsize=(12, 5))\n",
    "    plt.subplot(1, 2, 1)\n",
    "    plt.plot(x, acc, 'b', label='Training acc')\n",
    "    plt.plot(x, val_acc, 'r', label='Validation acc')\n",
    "    plt.title('Training and validation accuracy')\n",
    "    plt.legend()\n",
    "    plt.subplot(1, 2, 2)\n",
    "    plt.plot(x, loss, 'b', label='Training loss')\n",
    "    plt.plot(x, val_loss, 'r', label='Validation loss')\n",
    "    plt.title('Training and validation loss')\n",
    "    plt.legend()\n"
   ]
  },
  {
   "cell_type": "code",
   "execution_count": 39,
   "metadata": {},
   "outputs": [
    {
     "data": {
      "image/png": "[encoded data removed]",
      "text/plain": [
       "<Figure size 864x360 with 2 Axes>"
      ]
     },
     "metadata": {},
     "output_type": "display_data"
    }
   ],
   "source": [
    "plot_history(history)"
   ]
  },
  {
   "cell_type": "markdown",
   "metadata": {},
   "source": [
    "### 6. Neural Network with text tokenization"
   ]
  },
  {
   "cell_type": "code",
   "execution_count": 40,
   "metadata": {},
   "outputs": [],
   "source": [
    "from keras.preprocessing.text import Tokenizer\n",
    "from keras.preprocessing.sequence import pad_sequences\n",
    "\n",
    "tokenizer = Tokenizer(num_words=5000)\n",
    "tokenizer.fit_on_texts(x_train)\n",
    "X_train = tokenizer.texts_to_sequences(x_train)\n",
    "X_test = tokenizer.texts_to_sequences(x_test)"
   ]
  },
  {
   "cell_type": "code",
   "execution_count": 41,
   "metadata": {},
   "outputs": [],
   "source": [
    "vocab_size = len(tokenizer.word_index) + 1  # Adding 1 because of reserved 0 index\n",
    "maxlen = 100\n",
    "\n",
    "X_train = pad_sequences(X_train, padding='post', maxlen=maxlen)\n",
    "X_test = pad_sequences(X_test, padding='post', maxlen=maxlen)"
   ]
  },
  {
   "cell_type": "code",
   "execution_count": 42,
   "metadata": {},
   "outputs": [
    {
     "name": "stdout",
     "output_type": "stream",
     "text": [
      "_________________________________________________________________\n",
      "Layer (type)                 Output Shape              Param #   \n",
      "=================================================================\n",
      "embedding_1 (Embedding)      (None, 100, 50)           65550     \n",
      "_________________________________________________________________\n",
      "flatten_1 (Flatten)          (None, 5000)              0         \n",
      "_________________________________________________________________\n",
      "dense_3 (Dense)              (None, 35)                175035    \n",
      "_________________________________________________________________\n",
      "dense_4 (Dense)              (None, 30)                1080      \n",
      "=================================================================\n",
      "Total params: 241,665\n",
      "Trainable params: 241,665\n",
      "Non-trainable params: 0\n",
      "_________________________________________________________________\n"
     ]
    }
   ],
   "source": [
    "from keras.models import Sequential\n",
    "from keras import layers\n",
    "\n",
    "embedding_dim = 50\n",
    "\n",
    "model = Sequential()\n",
    "model.add(layers.Embedding(input_dim=vocab_size, \n",
    "                           output_dim=embedding_dim, \n",
    "                           input_length=maxlen))\n",
    "model.add(layers.Flatten())\n",
    "model.add(layers.Dense(35, activation='relu'))\n",
    "model.add(layers.Dense(30, activation='sigmoid'))\n",
    "model.compile(optimizer='adam',\n",
    "              loss='categorical_crossentropy',\n",
    "              metrics=['accuracy'])\n",
    "model.summary()\n"
   ]
  },
  {
   "cell_type": "code",
   "execution_count": 43,
   "metadata": {
    "scrolled": true
   },
   "outputs": [
    {
     "name": "stdout",
     "output_type": "stream",
     "text": [
      "Train on 871 samples, validate on 291 samples\n",
      "Epoch 1/20\n",
      "871/871 [==============================] - 2s 2ms/step - loss: 0.2427 - acc: 0.9157 - val_loss: 0.1079 - val_acc: 0.9695\n",
      "Epoch 2/20\n",
      "871/871 [==============================] - 1s 926us/step - loss: 0.0890 - acc: 0.9748 - val_loss: 0.0832 - val_acc: 0.9802\n",
      "Epoch 3/20\n",
      "871/871 [==============================] - 1s 934us/step - loss: 0.0669 - acc: 0.9832 - val_loss: 0.0716 - val_acc: 0.9824\n",
      "Epoch 4/20\n",
      "871/871 [==============================] - 1s 1ms/step - loss: 0.0538 - acc: 0.9859 - val_loss: 0.0638 - val_acc: 0.9832\n",
      "Epoch 5/20\n",
      "871/871 [==============================] - 1s 887us/step - loss: 0.0435 - acc: 0.9881 - val_loss: 0.0588 - val_acc: 0.9842\n",
      "Epoch 6/20\n",
      "871/871 [==============================] - 1s 963us/step - loss: 0.0359 - acc: 0.9901 - val_loss: 0.0553 - val_acc: 0.9847\n",
      "Epoch 7/20\n",
      "871/871 [==============================] - 1s 860us/step - loss: 0.0292 - acc: 0.9915 - val_loss: 0.0547 - val_acc: 0.9849\n",
      "Epoch 8/20\n",
      "871/871 [==============================] - 1s 1ms/step - loss: 0.0236 - acc: 0.9932 - val_loss: 0.0535 - val_acc: 0.9853\n",
      "Epoch 9/20\n",
      "871/871 [==============================] - 1s 1ms/step - loss: 0.0188 - acc: 0.9945 - val_loss: 0.0539 - val_acc: 0.9853\n",
      "Epoch 10/20\n",
      "871/871 [==============================] - 1s 986us/step - loss: 0.0148 - acc: 0.9960 - val_loss: 0.0549 - val_acc: 0.9858\n",
      "Epoch 11/20\n",
      "871/871 [==============================] - 1s 1ms/step - loss: 0.0116 - acc: 0.9969 - val_loss: 0.0556 - val_acc: 0.9860\n",
      "Epoch 12/20\n",
      "871/871 [==============================] - 1s 962us/step - loss: 0.0091 - acc: 0.9976 - val_loss: 0.0565 - val_acc: 0.9863\n",
      "Epoch 13/20\n",
      "871/871 [==============================] - 1s 1ms/step - loss: 0.0071 - acc: 0.9985 - val_loss: 0.0593 - val_acc: 0.9865\n",
      "Epoch 14/20\n",
      "871/871 [==============================] - 1s 1ms/step - loss: 0.0054 - acc: 0.9989 - val_loss: 0.0609 - val_acc: 0.9864\n",
      "Epoch 15/20\n",
      "871/871 [==============================] - 1s 920us/step - loss: 0.0042 - acc: 0.9995 - val_loss: 0.0621 - val_acc: 0.9865\n",
      "Epoch 16/20\n",
      "871/871 [==============================] - 1s 919us/step - loss: 0.0033 - acc: 0.9997 - val_loss: 0.0648 - val_acc: 0.9867\n",
      "Epoch 17/20\n",
      "871/871 [==============================] - 1s 851us/step - loss: 0.0026 - acc: 0.9998 - val_loss: 0.0660 - val_acc: 0.9865\n",
      "Epoch 18/20\n",
      "871/871 [==============================] - 1s 1ms/step - loss: 0.0023 - acc: 0.9999 - val_loss: 0.0691 - val_acc: 0.9861\n",
      "Epoch 19/20\n",
      "871/871 [==============================] - 1s 1ms/step - loss: 0.0017 - acc: 1.0000 - val_loss: 0.0714 - val_acc: 0.9863\n",
      "Epoch 20/20\n",
      "871/871 [==============================] - 1s 886us/step - loss: 0.0014 - acc: 0.9999 - val_loss: 0.0710 - val_acc: 0.9867\n",
      "Training Accuracy: 1.0000\n",
      "Testing Accuracy:  0.9867\n"
     ]
    },
    {
     "data": {
      "image/png": "[encoded data removed]",
      "text/plain": [
       "<Figure size 864x360 with 2 Axes>"
      ]
     },
     "metadata": {},
     "output_type": "display_data"
    }
   ],
   "source": [
    "history = model.fit(X_train, y_train_hot,\n",
    "                    epochs=20,\n",
    "                    verbose=True,\n",
    "                    validation_data=(X_test, y_test_hot),\n",
    "                    batch_size=10)\n",
    "loss, accuracy = model.evaluate(X_train, y_train_hot, verbose=False)\n",
    "print(\"Training Accuracy: {:.4f}\".format(accuracy))\n",
    "loss, accuracy = model.evaluate(X_test, y_test_hot, verbose=False)\n",
    "print(\"Testing Accuracy:  {:.4f}\".format(accuracy))\n",
    "plot_history(history)"
   ]
  },
  {
   "cell_type": "code",
   "execution_count": 44,
   "metadata": {},
   "outputs": [],
   "source": [
    "y_pred = model.predict(X_test)"
   ]
  },
  {
   "cell_type": "code",
   "execution_count": 45,
   "metadata": {},
   "outputs": [],
   "source": [
    "y_pred = hotdecode(y_pred)"
   ]
  },
  {
   "cell_type": "code",
   "execution_count": 46,
   "metadata": {},
   "outputs": [],
   "source": [
    "param_grid = dict(num_filters=[32, 64, 128],\n",
    "                  kernel_size=[3, 5, 7],\n",
    "                  vocab_size=[5000], \n",
    "                  embedding_dim=[50],\n",
    "                  maxlen=[100])"
   ]
  },
  {
   "cell_type": "code",
   "execution_count": 63,
   "metadata": {},
   "outputs": [],
   "source": []
  },
  {
   "cell_type": "code",
   "execution_count": 50,
   "metadata": {},
   "outputs": [],
   "source": [
    "cm=confusion_matrix(y_test, y_pred)\n",
    "prec_score = precision_score(y_test, y_pred)\n",
    "print(prec_score)"
   ]
  },
  {
   "cell_type": "code",
   "execution_count": 59,
   "metadata": {},
   "outputs": [
    {
     "data": {
      "text/plain": [
       "<matplotlib.axes._subplots.AxesSubplot at 0x1321e8eb8>"
      ]
     },
     "execution_count": 59,
     "metadata": {},
     "output_type": "execute_result"
    },
    {
     "data": {
      "image/png": "[encoded data removed]",
      "text/plain": [
       "<Figure size 720x504 with 2 Axes>"
      ]
     },
     "metadata": {},
     "output_type": "display_data"
    }
   ],
   "source": [
    "df_cm = pd.DataFrame(cm, index = [i for i in \"ABCDEFGHIJKLMNOPQRSTUVW\"],\n",
    "                  columns = [i for i in \"ABCDEFGHIJKLMNOPQRSTUVW\"])\n",
    "plt.figure(figsize = (10,7))\n",
    "sn.heatmap(df_cm, annot=True)"
   ]
  },
  {
   "cell_type": "markdown",
   "metadata": {},
   "source": [
    "# Dealing with imbalance dataset\n",
    "## Upsampling minority datapoints"
   ]
  },
  {
   "cell_type": "code",
   "execution_count": 171,
   "metadata": {
    "scrolled": true
   },
   "outputs": [
    {
     "data": {
      "text/plain": [
       "30    347\n",
       "28    270\n",
       "8     151\n",
       "6      69\n",
       "20     50\n",
       "10     42\n",
       "21     41\n",
       "1      38\n",
       "15     28\n",
       "12     20\n",
       "4      18\n",
       "16     12\n",
       "29     10\n",
       "22     10\n",
       "3       9\n",
       "9       7\n",
       "26      6\n",
       "5       6\n",
       "24      5\n",
       "2       4\n",
       "18      3\n",
       "14      3\n",
       "17      2\n",
       "19      2\n",
       "25      2\n",
       "7       2\n",
       "11      2\n",
       "13      1\n",
       "23      1\n",
       "27      1\n",
       "Name: label, dtype: int64"
      ]
     },
     "execution_count": 171,
     "metadata": {},
     "output_type": "execute_result"
    }
   ],
   "source": [
    "df.label.value_counts()"
   ]
  },
  {
   "cell_type": "code",
   "execution_count": 174,
   "metadata": {},
   "outputs": [],
   "source": [
    "# Separate majority and minority classes\n",
    "df_majority = pd.concat([df[df.label==30], df[df.label==28], df[df.label==8], df[df.label==6]])"
   ]
  },
  {
   "cell_type": "code",
   "execution_count": 175,
   "metadata": {},
   "outputs": [],
   "source": [
    "df_minority = df"
   ]
  },
  {
   "cell_type": "code",
   "execution_count": 176,
   "metadata": {},
   "outputs": [],
   "source": [
    "df_minority = df_minority[df_minority.label != 30]\n",
    "df_minority = df_minority[df_minority.label != 28]\n",
    "df_minority = df_minority[df_minority.label != 8]\n",
    "df_minority = df_minority[df_minority.label != 6]\n"
   ]
  },
  {
   "cell_type": "code",
   "execution_count": 177,
   "metadata": {},
   "outputs": [],
   "source": [
    "list_ = df_minority.label.value_counts().to_dict()"
   ]
  },
  {
   "cell_type": "code",
   "execution_count": 178,
   "metadata": {},
   "outputs": [],
   "source": [
    "keys = list(list_.keys())"
   ]
  },
  {
   "cell_type": "code",
   "execution_count": 179,
   "metadata": {
    "scrolled": true
   },
   "outputs": [],
   "source": [
    "from sklearn.utils import resample\n",
    "# Upsample minority class\n",
    "for i in range(len(keys)):\n",
    "    count = list_[keys[i]]\n",
    "    if count < 50:\n",
    "        df_minority_upsampled = resample(df_minority[df_minority.label==keys[i]], \n",
    "                                         replace=True,     # sample with replacement\n",
    "                                         n_samples=50,    # to match majority class\n",
    "                                         random_state=123) # reproducible results\n",
    "    df_majority = pd.concat([df_majority, df_minority_upsampled])\n",
    "df_upsampled = df_majority"
   ]
  },
  {
   "cell_type": "markdown",
   "metadata": {},
   "source": [
    "Generated Balanced Dataset"
   ]
  },
  {
   "cell_type": "code",
   "execution_count": 216,
   "metadata": {
    "scrolled": true
   },
   "outputs": [
    {
     "name": "stdout",
     "output_type": "stream",
     "text": [
      "30    347\n",
      "28    270\n",
      "8     151\n",
      "13    100\n",
      "6      69\n",
      "29     50\n",
      "4      50\n",
      "10     50\n",
      "12     50\n",
      "14     50\n",
      "16     50\n",
      "18     50\n",
      "22     50\n",
      "24     50\n",
      "26     50\n",
      "1      50\n",
      "27     50\n",
      "3      50\n",
      "5      50\n",
      "7      50\n",
      "9      50\n",
      "11     50\n",
      "15     50\n",
      "17     50\n",
      "19     50\n",
      "21     50\n",
      "23     50\n",
      "25     50\n",
      "2      50\n",
      "Name: label, dtype: int64\n"
     ]
    }
   ],
   "source": [
    "print(df_upsampled.label.value_counts())\n",
    "df_upsampled = df_upsampled.sample(frac=1).reset_index(drop=True)"
   ]
  },
  {
   "cell_type": "code",
   "execution_count": 185,
   "metadata": {},
   "outputs": [
    {
     "data": {
      "text/html": [
       "<div>\n",
       "<style scoped>\n",
       "    .dataframe tbody tr th:only-of-type {\n",
       "        vertical-align: middle;\n",
       "    }\n",
       "\n",
       "    .dataframe tbody tr th {\n",
       "        vertical-align: top;\n",
       "    }\n",
       "\n",
       "    .dataframe thead th {\n",
       "        text-align: right;\n",
       "    }\n",
       "</style>\n",
       "<table border=\"1\" class=\"dataframe\">\n",
       "  <thead>\n",
       "    <tr style=\"text-align: right;\">\n",
       "      <th></th>\n",
       "      <th>label</th>\n",
       "      <th>keyword</th>\n",
       "    </tr>\n",
       "  </thead>\n",
       "  <tbody>\n",
       "    <tr>\n",
       "      <th>0</th>\n",
       "      <td>8</td>\n",
       "      <td>internet marketing,Internet Marketing,Networki...</td>\n",
       "    </tr>\n",
       "    <tr>\n",
       "      <th>1</th>\n",
       "      <td>2</td>\n",
       "      <td>design,Aerospace engineers research,develop ae...</td>\n",
       "    </tr>\n",
       "    <tr>\n",
       "      <th>2</th>\n",
       "      <td>22</td>\n",
       "      <td>marketing,management,sales,telesales,developme...</td>\n",
       "    </tr>\n",
       "    <tr>\n",
       "      <th>3</th>\n",
       "      <td>15</td>\n",
       "      <td>good knowledge about Ceramics sanitaryware Bat...</td>\n",
       "    </tr>\n",
       "    <tr>\n",
       "      <th>4</th>\n",
       "      <td>30</td>\n",
       "      <td>maintain the co,dination with ticketing system...</td>\n",
       "    </tr>\n",
       "  </tbody>\n",
       "</table>\n",
       "</div>"
      ],
      "text/plain": [
       "   label                                            keyword\n",
       "0      8  internet marketing,Internet Marketing,Networki...\n",
       "1      2  design,Aerospace engineers research,develop ae...\n",
       "2     22  marketing,management,sales,telesales,developme...\n",
       "3     15  good knowledge about Ceramics sanitaryware Bat...\n",
       "4     30  maintain the co,dination with ticketing system..."
      ]
     },
     "execution_count": 185,
     "metadata": {},
     "output_type": "execute_result"
    }
   ],
   "source": [
    "df_upsampled.head()"
   ]
  },
  {
   "cell_type": "markdown",
   "metadata": {},
   "source": [
    "Spilting into Training and Testing"
   ]
  },
  {
   "cell_type": "code",
   "execution_count": 186,
   "metadata": {},
   "outputs": [
    {
     "name": "stdout",
     "output_type": "stream",
     "text": [
      "size of x_train (1602,), x_test (535,), y_train (1602,), y_test (535,)\n"
     ]
    }
   ],
   "source": [
    "x = df_upsampled['keyword'].values\n",
    "y = df_upsampled['label'].values\n",
    "\n",
    "\n",
    "x_train, x_test, y_train, y_test = train_test_split(x, y, test_size=0.25)\n",
    "print('size of x_train %s, x_test %s, y_train %s, y_test %s'%(x_train.shape, x_test.shape, y_train.shape, y_test.shape))\n",
    "\n",
    "\n",
    "vectorizer = CountVectorizer()\n",
    "vectorizer.fit(x_train)\n",
    "\n",
    "\n",
    "X_train = vectorizer.transform(x_train)\n",
    "X_test  = vectorizer.transform(x_test)\n",
    "\n",
    "\n",
    "y_train_hot = hotencode(y_train)\n",
    "y_test_hot = hotencode(y_test)\n"
   ]
  },
  {
   "cell_type": "markdown",
   "metadata": {},
   "source": [
    "### 7. Random Forest with Balanced Dataset"
   ]
  },
  {
   "cell_type": "code",
   "execution_count": 187,
   "metadata": {
    "scrolled": true
   },
   "outputs": [
    {
     "name": "stdout",
     "output_type": "stream",
     "text": [
      "Accuracy of forest classifier: 97.57000000000001\n"
     ]
    }
   ],
   "source": [
    "forest = RandomForestClassifier(class_weight='balanced')\n",
    "forest.fit(X_train, y_train)\n",
    "score = forest.score(X_test, y_test)\n",
    "\n",
    "print(\"Accuracy of forest classifier:\", round(score,4)*100)"
   ]
  },
  {
   "cell_type": "code",
   "execution_count": 188,
   "metadata": {
    "scrolled": true
   },
   "outputs": [
    {
     "data": {
      "text/plain": [
       "<matplotlib.axes._subplots.AxesSubplot at 0x125683828>"
      ]
     },
     "execution_count": 188,
     "metadata": {},
     "output_type": "execute_result"
    },
    {
     "data": {
      "image/png": "[encoded data removed]",
      "text/plain": [
       "<Figure size 720x504 with 2 Axes>"
      ]
     },
     "metadata": {
      "needs_background": "light"
     },
     "output_type": "display_data"
    }
   ],
   "source": [
    "y_pred = forest.predict(X_test)\n",
    "cm=confusion_matrix(y_test, y_pred)\n",
    "\n",
    "index = columns = [i for i in range(len(cm))]\n",
    "df_cm = pd.DataFrame(cm, index = index,\n",
    "                  columns = columns)\n",
    "plt.figure(figsize = (10,7))\n",
    "sn.heatmap(df_cm, annot=True)"
   ]
  },
  {
   "cell_type": "markdown",
   "metadata": {},
   "source": [
    "### 8. Neural Network with Balanced dataset and text tokenization"
   ]
  },
  {
   "cell_type": "code",
   "execution_count": 189,
   "metadata": {},
   "outputs": [
    {
     "name": "stderr",
     "output_type": "stream",
     "text": [
      "Using TensorFlow backend.\n"
     ]
    }
   ],
   "source": [
    "from keras.preprocessing.text import Tokenizer\n",
    "from keras.preprocessing.sequence import pad_sequences\n",
    "\n",
    "\n",
    "tokenizer = Tokenizer(num_words=5000)\n",
    "tokenizer.fit_on_texts(x_train)\n",
    "\n",
    "X_train = tokenizer.texts_to_sequences(x_train)\n",
    "X_test = tokenizer.texts_to_sequences(x_test)\n",
    "\n",
    "vocab_size = len(tokenizer.word_index) + 1  # Adding 1 because of reserved 0 index\n",
    "maxlen = 100\n",
    "\n",
    "\n",
    "X_train = pad_sequences(X_train, padding='post', maxlen=maxlen)\n",
    "X_test = pad_sequences(X_test, padding='post', maxlen=maxlen)\n",
    "\n"
   ]
  },
  {
   "cell_type": "code",
   "execution_count": 198,
   "metadata": {},
   "outputs": [
    {
     "name": "stdout",
     "output_type": "stream",
     "text": [
      "_________________________________________________________________\n",
      "Layer (type)                 Output Shape              Param #   \n",
      "=================================================================\n",
      "embedding_2 (Embedding)      (None, 100, 50)           64200     \n",
      "_________________________________________________________________\n",
      "flatten_2 (Flatten)          (None, 5000)              0         \n",
      "_________________________________________________________________\n",
      "dense_3 (Dense)              (None, 35)                175035    \n",
      "_________________________________________________________________\n",
      "dense_4 (Dense)              (None, 30)                1080      \n",
      "=================================================================\n",
      "Total params: 240,315\n",
      "Trainable params: 240,315\n",
      "Non-trainable params: 0\n",
      "_________________________________________________________________\n"
     ]
    }
   ],
   "source": [
    "from keras.models import Sequential\n",
    "from keras import layers\n",
    "\n",
    "embedding_dim = 50\n",
    "\n",
    "model = Sequential()\n",
    "model.add(layers.Embedding(input_dim=vocab_size, \n",
    "                           output_dim=embedding_dim, \n",
    "                           input_length=maxlen))\n",
    "model.add(layers.Flatten())\n",
    "model.add(layers.Dense(35, activation='relu'))\n",
    "model.add(layers.Dense(30, activation='sigmoid'))\n",
    "model.compile(optimizer='adam',\n",
    "              loss='categorical_crossentropy',\n",
    "              metrics=['accuracy'])\n",
    "model.summary()\n"
   ]
  },
  {
   "cell_type": "code",
   "execution_count": 199,
   "metadata": {
    "scrolled": true
   },
   "outputs": [
    {
     "name": "stdout",
     "output_type": "stream",
     "text": [
      "Train on 1602 samples, validate on 535 samples\n",
      "Epoch 1/20\n",
      "1602/1602 [==============================] - 1s 812us/step - loss: 0.2197 - acc: 0.9165 - val_loss: 0.1113 - val_acc: 0.9703\n",
      "Epoch 2/20\n",
      "1602/1602 [==============================] - 1s 523us/step - loss: 0.0865 - acc: 0.9735 - val_loss: 0.0630 - val_acc: 0.9796\n",
      "Epoch 3/20\n",
      "1602/1602 [==============================] - 1s 512us/step - loss: 0.0481 - acc: 0.9848 - val_loss: 0.0401 - val_acc: 0.9880\n",
      "Epoch 4/20\n",
      "1602/1602 [==============================] - 1s 503us/step - loss: 0.0272 - acc: 0.9923 - val_loss: 0.0273 - val_acc: 0.9925\n",
      "Epoch 5/20\n",
      "1602/1602 [==============================] - 1s 513us/step - loss: 0.0154 - acc: 0.9964 - val_loss: 0.0212 - val_acc: 0.9946\n",
      "Epoch 6/20\n",
      "1602/1602 [==============================] - 1s 502us/step - loss: 0.0090 - acc: 0.9984 - val_loss: 0.0186 - val_acc: 0.9952\n",
      "Epoch 7/20\n",
      "1602/1602 [==============================] - 1s 538us/step - loss: 0.0054 - acc: 0.9994 - val_loss: 0.0185 - val_acc: 0.9952\n",
      "Epoch 8/20\n",
      "1602/1602 [==============================] - 1s 549us/step - loss: 0.0034 - acc: 0.9997 - val_loss: 0.0178 - val_acc: 0.9956\n",
      "Epoch 9/20\n",
      "1602/1602 [==============================] - 1s 522us/step - loss: 0.0022 - acc: 0.9999 - val_loss: 0.0183 - val_acc: 0.9957\n",
      "Epoch 10/20\n",
      "1602/1602 [==============================] - 1s 544us/step - loss: 0.0015 - acc: 1.0000 - val_loss: 0.0193 - val_acc: 0.9956\n",
      "Epoch 11/20\n",
      "1602/1602 [==============================] - 1s 533us/step - loss: 0.0012 - acc: 1.0000 - val_loss: 0.0191 - val_acc: 0.9959\n",
      "Epoch 12/20\n",
      "1602/1602 [==============================] - 1s 518us/step - loss: 8.1202e-04 - acc: 1.0000 - val_loss: 0.0203 - val_acc: 0.9958\n",
      "Epoch 13/20\n",
      "1602/1602 [==============================] - 1s 529us/step - loss: 6.1385e-04 - acc: 1.0000 - val_loss: 0.0202 - val_acc: 0.9958\n",
      "Epoch 14/20\n",
      "1602/1602 [==============================] - 1s 579us/step - loss: 4.5680e-04 - acc: 1.0000 - val_loss: 0.0207 - val_acc: 0.9958\n",
      "Epoch 15/20\n",
      "1602/1602 [==============================] - 1s 587us/step - loss: 3.4820e-04 - acc: 1.0000 - val_loss: 0.0214 - val_acc: 0.9958\n",
      "Epoch 16/20\n",
      "1602/1602 [==============================] - 1s 525us/step - loss: 2.6926e-04 - acc: 1.0000 - val_loss: 0.0217 - val_acc: 0.9958\n",
      "Epoch 17/20\n",
      "1602/1602 [==============================] - 1s 513us/step - loss: 2.1727e-04 - acc: 1.0000 - val_loss: 0.0223 - val_acc: 0.9956\n",
      "Epoch 18/20\n",
      "1602/1602 [==============================] - 1s 516us/step - loss: 1.6690e-04 - acc: 1.0000 - val_loss: 0.0226 - val_acc: 0.9955\n",
      "Epoch 19/20\n",
      "1602/1602 [==============================] - 1s 543us/step - loss: 1.3406e-04 - acc: 1.0000 - val_loss: 0.0228 - val_acc: 0.9958\n",
      "Epoch 20/20\n",
      "1602/1602 [==============================] - 1s 518us/step - loss: 1.0491e-04 - acc: 1.0000 - val_loss: 0.0237 - val_acc: 0.9957\n",
      "Training Accuracy: 1.0000\n",
      "Testing Accuracy:  0.9957\n"
     ]
    }
   ],
   "source": [
    "history = model.fit(X_train, y_train_hot,\n",
    "                    epochs=20,\n",
    "                    verbose=True,\n",
    "                    validation_data=(X_test, y_test_hot),\n",
    "                    batch_size=10)\n",
    "loss, accuracy = model.evaluate(X_train, y_train_hot, verbose=False)\n",
    "print(\"Training Accuracy: {:.4f}\".format(accuracy))\n",
    "loss, accuracy = model.evaluate(X_test, y_test_hot, verbose=False)\n",
    "print(\"Testing Accuracy:  {:.4f}\".format(accuracy))\n"
   ]
  },
  {
   "cell_type": "code",
   "execution_count": 200,
   "metadata": {},
   "outputs": [
    {
     "data": {
      "image/png": "[encoded data removed]",
      "text/plain": [
       "<Figure size 864x360 with 2 Axes>"
      ]
     },
     "metadata": {},
     "output_type": "display_data"
    }
   ],
   "source": [
    "plot_history(history)"
   ]
  },
  {
   "cell_type": "code",
   "execution_count": 201,
   "metadata": {},
   "outputs": [
    {
     "data": {
      "text/plain": [
       "<matplotlib.axes._subplots.AxesSubplot at 0x139efe400>"
      ]
     },
     "execution_count": 201,
     "metadata": {},
     "output_type": "execute_result"
    },
    {
     "data": {
      "image/png": "[encoded data removed]",
      "text/plain": [
       "<Figure size 720x504 with 2 Axes>"
      ]
     },
     "metadata": {},
     "output_type": "display_data"
    }
   ],
   "source": [
    "y_pred = model.predict(X_test)\n",
    "y_pred = hotdecode(y_pred)\n",
    "\n",
    "cm=confusion_matrix(y_test, y_pred)\n",
    "\n",
    "index = columns = [i for i in range(len(cm))]\n",
    "df_cm = pd.DataFrame(cm, index = index,\n",
    "                  columns = columns)\n",
    "\n",
    "plt.figure(figsize = (10,7))\n",
    "sn.heatmap(df_cm, annot=True)"
   ]
  },
  {
   "cell_type": "markdown",
   "metadata": {},
   "source": [
    "## Downsampling majority datapoints and upsampling minority datapoints"
   ]
  },
  {
   "cell_type": "code",
   "execution_count": 217,
   "metadata": {},
   "outputs": [],
   "source": [
    "# Separate majority and minority classes\n",
    "df_majority = pd.concat([df_upsampled[df_upsampled.label==30], df_upsampled[df_upsampled.label==28], df_upsampled[df_upsampled.label==8], df_upsampled[df_upsampled.label==6]])\n",
    "\n",
    "df_minority = df_upsampled\n",
    "df_minority = df_minority[df_minority.label != 30]\n",
    "df_minority = df_minority[df_minority.label != 28]\n",
    "df_minority = df_minority[df_minority.label != 8]\n",
    "df_minority = df_minority[df_minority.label != 6]"
   ]
  },
  {
   "cell_type": "code",
   "execution_count": 218,
   "metadata": {},
   "outputs": [
    {
     "data": {
      "text/plain": [
       "30    347\n",
       "28    270\n",
       "8     151\n",
       "6      69\n",
       "Name: label, dtype: int64"
      ]
     },
     "execution_count": 218,
     "metadata": {},
     "output_type": "execute_result"
    }
   ],
   "source": [
    "df_majority.label.value_counts()"
   ]
  },
  {
   "cell_type": "code",
   "execution_count": 219,
   "metadata": {},
   "outputs": [],
   "source": [
    "list_ = df_majority.label.value_counts().to_dict()\n",
    "keys = list(list_.keys())"
   ]
  },
  {
   "cell_type": "code",
   "execution_count": 220,
   "metadata": {},
   "outputs": [
    {
     "data": {
      "text/plain": [
       "[30, 28, 8, 6]"
      ]
     },
     "execution_count": 220,
     "metadata": {},
     "output_type": "execute_result"
    }
   ],
   "source": [
    "keys"
   ]
  },
  {
   "cell_type": "code",
   "execution_count": 221,
   "metadata": {},
   "outputs": [],
   "source": [
    "from sklearn.utils import resample\n",
    "# Upsample minority class\n",
    "for i in range(len(keys)):\n",
    "    count = list_[keys[i]]\n",
    "    if count >100:\n",
    "        df_majority_downsampled = resample(df_majority[df_majority.label==keys[i]], \n",
    "                                         replace=False,     # sample with replacement\n",
    "                                         n_samples=100,    # to match majority class\n",
    "                                         random_state=123) # reproducible results\n",
    "    df_minority = pd.concat([df_minority, df_majority_downsampled])\n",
    "df_downsampled = df_minority"
   ]
  },
  {
   "cell_type": "code",
   "execution_count": 222,
   "metadata": {
    "scrolled": true
   },
   "outputs": [
    {
     "data": {
      "text/plain": [
       "8     200\n",
       "30    100\n",
       "28    100\n",
       "13    100\n",
       "14     50\n",
       "2      50\n",
       "3      50\n",
       "4      50\n",
       "5      50\n",
       "7      50\n",
       "9      50\n",
       "10     50\n",
       "11     50\n",
       "12     50\n",
       "15     50\n",
       "29     50\n",
       "16     50\n",
       "17     50\n",
       "18     50\n",
       "19     50\n",
       "21     50\n",
       "22     50\n",
       "23     50\n",
       "24     50\n",
       "25     50\n",
       "26     50\n",
       "27     50\n",
       "1      50\n",
       "Name: label, dtype: int64"
      ]
     },
     "execution_count": 222,
     "metadata": {},
     "output_type": "execute_result"
    }
   ],
   "source": [
    "df_downsampled.label.value_counts()"
   ]
  },
  {
   "cell_type": "code",
   "execution_count": 223,
   "metadata": {
    "scrolled": true
   },
   "outputs": [
    {
     "name": "stdout",
     "output_type": "stream",
     "text": [
      "size of x_train (1275,), x_test (425,), y_train (1275,), y_test (425,)\n"
     ]
    }
   ],
   "source": [
    "x = df_downsampled['keyword'].values\n",
    "y = df_downsampled['label'].values\n",
    "\n",
    "\n",
    "x_train, x_test, y_train, y_test = train_test_split(x, y, test_size=0.25)\n",
    "print('size of x_train %s, x_test %s, y_train %s, y_test %s'%(x_train.shape, x_test.shape, y_train.shape, y_test.shape))\n",
    "\n",
    "\n",
    "vectorizer = CountVectorizer()\n",
    "vectorizer.fit(x_train)\n",
    "\n",
    "\n",
    "X_train = vectorizer.transform(x_train)\n",
    "X_test  = vectorizer.transform(x_test)\n",
    "\n",
    "\n",
    "y_train_hot = hotencode(y_train)\n",
    "y_test_hot = hotencode(y_test)\n"
   ]
  },
  {
   "cell_type": "markdown",
   "metadata": {},
   "source": [
    "### 9. Neural Network with Downsampled Majority class and Upsample minority classes"
   ]
  },
  {
   "cell_type": "code",
   "execution_count": 228,
   "metadata": {},
   "outputs": [
    {
     "name": "stdout",
     "output_type": "stream",
     "text": [
      "_________________________________________________________________\n",
      "Layer (type)                 Output Shape              Param #   \n",
      "=================================================================\n",
      "embedding_4 (Embedding)      (None, 100, 50)           51700     \n",
      "_________________________________________________________________\n",
      "flatten_4 (Flatten)          (None, 5000)              0         \n",
      "_________________________________________________________________\n",
      "dense_7 (Dense)              (None, 35)                175035    \n",
      "_________________________________________________________________\n",
      "dense_8 (Dense)              (None, 30)                1080      \n",
      "=================================================================\n",
      "Total params: 227,815\n",
      "Trainable params: 227,815\n",
      "Non-trainable params: 0\n",
      "_________________________________________________________________\n"
     ]
    }
   ],
   "source": [
    "from keras.preprocessing.text import Tokenizer\n",
    "from keras.preprocessing.sequence import pad_sequences\n",
    "\n",
    "\n",
    "tokenizer = Tokenizer(num_words=5000)\n",
    "tokenizer.fit_on_texts(x_train)\n",
    "\n",
    "X_train = tokenizer.texts_to_sequences(x_train)\n",
    "X_test = tokenizer.texts_to_sequences(x_test)\n",
    "\n",
    "vocab_size = len(tokenizer.word_index) + 1  # Adding 1 because of reserved 0 index\n",
    "maxlen = 100\n",
    "\n",
    "\n",
    "X_train = pad_sequences(X_train, padding='post', maxlen=maxlen)\n",
    "X_test = pad_sequences(X_test, padding='post', maxlen=maxlen)\n",
    "\n",
    "from keras.models import Sequential\n",
    "from keras import layers\n",
    "\n",
    "embedding_dim = 50\n",
    "\n",
    "model = Sequential()\n",
    "model.add(layers.Embedding(input_dim=vocab_size, \n",
    "                           output_dim=embedding_dim, \n",
    "                           input_length=maxlen))\n",
    "model.add(layers.Flatten())\n",
    "model.add(layers.Dense(35, activation='relu'))\n",
    "model.add(layers.Dense(30, activation='sigmoid'))\n",
    "model.compile(optimizer='adam',\n",
    "              loss='categorical_crossentropy',\n",
    "              metrics=['accuracy'])\n",
    "model.summary()\n"
   ]
  },
  {
   "cell_type": "code",
   "execution_count": 229,
   "metadata": {
    "scrolled": true
   },
   "outputs": [
    {
     "name": "stdout",
     "output_type": "stream",
     "text": [
      "Train on 1275 samples, validate on 425 samples\n",
      "Epoch 1/20\n",
      "1275/1275 [==============================] - 2s 1ms/step - loss: 2.9261 - acc: 0.2314 - val_loss: 1.9862 - val_acc: 0.4447\n",
      "Epoch 2/20\n",
      "1275/1275 [==============================] - 1s 486us/step - loss: 0.8542 - acc: 0.8157 - val_loss: 0.5648 - val_acc: 0.8635\n",
      "Epoch 3/20\n",
      "1275/1275 [==============================] - 1s 471us/step - loss: 0.2208 - acc: 0.9584 - val_loss: 0.3279 - val_acc: 0.9035\n",
      "Epoch 4/20\n",
      "1275/1275 [==============================] - 1s 485us/step - loss: 0.0837 - acc: 0.9922 - val_loss: 0.2440 - val_acc: 0.9294\n",
      "Epoch 5/20\n",
      "1275/1275 [==============================] - 1s 574us/step - loss: 0.0390 - acc: 0.9969 - val_loss: 0.1913 - val_acc: 0.9553\n",
      "Epoch 6/20\n",
      "1275/1275 [==============================] - 1s 487us/step - loss: 0.0169 - acc: 1.0000 - val_loss: 0.1900 - val_acc: 0.9459\n",
      "Epoch 7/20\n",
      "1275/1275 [==============================] - 1s 509us/step - loss: 0.0110 - acc: 1.0000 - val_loss: 0.1772 - val_acc: 0.9576\n",
      "Epoch 8/20\n",
      "1275/1275 [==============================] - 1s 480us/step - loss: 0.0078 - acc: 1.0000 - val_loss: 0.1733 - val_acc: 0.9576\n",
      "Epoch 9/20\n",
      "1275/1275 [==============================] - 1s 509us/step - loss: 0.0056 - acc: 1.0000 - val_loss: 0.1709 - val_acc: 0.9600\n",
      "Epoch 10/20\n",
      "1275/1275 [==============================] - 1s 488us/step - loss: 0.0043 - acc: 1.0000 - val_loss: 0.1679 - val_acc: 0.9576\n",
      "Epoch 11/20\n",
      "1275/1275 [==============================] - 1s 471us/step - loss: 0.0034 - acc: 1.0000 - val_loss: 0.1699 - val_acc: 0.9576\n",
      "Epoch 12/20\n",
      "1275/1275 [==============================] - 1s 553us/step - loss: 0.0027 - acc: 1.0000 - val_loss: 0.1688 - val_acc: 0.9576\n",
      "Epoch 13/20\n",
      "1275/1275 [==============================] - 1s 613us/step - loss: 0.0023 - acc: 1.0000 - val_loss: 0.1812 - val_acc: 0.9576\n",
      "Epoch 14/20\n",
      "1275/1275 [==============================] - 1s 525us/step - loss: 0.0019 - acc: 1.0000 - val_loss: 0.1858 - val_acc: 0.9576\n",
      "Epoch 15/20\n",
      "1275/1275 [==============================] - 1s 566us/step - loss: 0.0016 - acc: 1.0000 - val_loss: 0.1793 - val_acc: 0.9576\n",
      "Epoch 16/20\n",
      "1275/1275 [==============================] - 1s 533us/step - loss: 0.0014 - acc: 1.0000 - val_loss: 0.2326 - val_acc: 0.9576\n",
      "Epoch 17/20\n",
      "1275/1275 [==============================] - 1s 525us/step - loss: 0.0012 - acc: 1.0000 - val_loss: 0.2276 - val_acc: 0.9600\n",
      "Epoch 18/20\n",
      "1275/1275 [==============================] - 1s 542us/step - loss: 0.0010 - acc: 1.0000 - val_loss: 0.1851 - val_acc: 0.9576\n",
      "Epoch 19/20\n",
      "1275/1275 [==============================] - 1s 570us/step - loss: 8.8804e-04 - acc: 1.0000 - val_loss: 0.2289 - val_acc: 0.9576\n",
      "Epoch 20/20\n",
      "1275/1275 [==============================] - 1s 512us/step - loss: 7.7494e-04 - acc: 1.0000 - val_loss: 0.1756 - val_acc: 0.9624\n",
      "Training Accuracy: 1.0000\n",
      "Testing Accuracy:  0.9624\n"
     ]
    }
   ],
   "source": [
    "history = model.fit(X_train, y_train_hot,\n",
    "                    epochs=20,\n",
    "                    verbose=True,\n",
    "                    validation_data=(X_test, y_test_hot),\n",
    "                    batch_size=10)\n",
    "loss, accuracy = model.evaluate(X_train, y_train_hot, verbose=False)\n",
    "print(\"Training Accuracy: {:.4f}\".format(accuracy))\n",
    "loss, accuracy = model.evaluate(X_test, y_test_hot, verbose=False)\n",
    "print(\"Testing Accuracy:  {:.4f}\".format(accuracy))"
   ]
  },
  {
   "cell_type": "code",
   "execution_count": 231,
   "metadata": {},
   "outputs": [
    {
     "data": {
      "image/png": "[encoded data removed]",
      "text/plain": [
       "<Figure size 864x360 with 2 Axes>"
      ]
     },
     "metadata": {},
     "output_type": "display_data"
    }
   ],
   "source": [
    "plot_history(history)"
   ]
  },
  {
   "cell_type": "code",
   "execution_count": 230,
   "metadata": {},
   "outputs": [
    {
     "data": {
      "text/plain": [
       "<matplotlib.axes._subplots.AxesSubplot at 0x13abce1d0>"
      ]
     },
     "execution_count": 230,
     "metadata": {},
     "output_type": "execute_result"
    },
    {
     "data": {
      "image/png": "[encoded data removed]",
      "text/plain": [
       "<Figure size 720x504 with 2 Axes>"
      ]
     },
     "metadata": {},
     "output_type": "display_data"
    }
   ],
   "source": [
    "y_pred = model.predict(X_test)\n",
    "y_pred = hotdecode(y_pred)\n",
    "\n",
    "cm=confusion_matrix(y_test, y_pred)\n",
    "\n",
    "index = columns = [i for i in range(len(cm))]\n",
    "df_cm = pd.DataFrame(cm, index = index,\n",
    "                  columns = columns)\n",
    "\n",
    "plt.figure(figsize = (10,7))\n",
    "sn.heatmap(df_cm, annot=True)"
   ]
  },
  {
   "cell_type": "markdown",
   "metadata": {},
   "source": [
    "## Introducing Word Embedding from Glove\n",
    "Using pre-trained weights"
   ]
  },
  {
   "cell_type": "code",
   "execution_count": 246,
   "metadata": {},
   "outputs": [],
   "source": [
    "import numpy as np\n",
    "\n",
    "def create_embedding_matrix(filepath, word_index, embedding_dim):\n",
    "    vocab_size = len(word_index) + 1  # Adding again 1 because of reserved 0 index\n",
    "    embedding_matrix = np.zeros((vocab_size, embedding_dim))\n",
    "\n",
    "    with open(filepath) as f:\n",
    "        for line in f:\n",
    "            word, *vector = line.split()\n",
    "            if word in word_index:\n",
    "                idx = word_index[word] \n",
    "                embedding_matrix[idx] = np.array(\n",
    "                    vector, dtype=np.float32)[:embedding_dim]\n",
    "\n",
    "    return embedding_matrix"
   ]
  },
  {
   "cell_type": "code",
   "execution_count": 247,
   "metadata": {},
   "outputs": [],
   "source": [
    "embedding_dim = 50\n",
    "embedding_matrix = create_embedding_matrix(\n",
    "    'glove.6B/glove.6B.50d.txt',\n",
    "     tokenizer.word_index, embedding_dim)"
   ]
  },
  {
   "cell_type": "code",
   "execution_count": 253,
   "metadata": {},
   "outputs": [
    {
     "name": "stdout",
     "output_type": "stream",
     "text": [
      "Ratio of nonzero elements in embedding matrix : 0.9264990328820116 This means 92.64990328820116 of the vocabulary is covered by the pretrained model, which is a good coverage of our vocabulary.\n"
     ]
    }
   ],
   "source": [
    "nonzero_elements = np.count_nonzero(np.count_nonzero(embedding_matrix, axis=1))\n",
    "print('Ratio of nonzero elements in embedding matrix : %s'%(nonzero_elements / vocab_size), 'This means %s of the vocabulary is covered by the pretrained model, which is a good coverage of our vocabulary.'%(nonzero_elements*100 / vocab_size))\n"
   ]
  },
  {
   "cell_type": "markdown",
   "metadata": {},
   "source": [
    "### 10. Neural Network without training of embedding matrix \n",
    "Glove word vector is used directly without any training"
   ]
  },
  {
   "cell_type": "code",
   "execution_count": 268,
   "metadata": {
    "scrolled": true
   },
   "outputs": [
    {
     "name": "stdout",
     "output_type": "stream",
     "text": [
      "_________________________________________________________________\n",
      "Layer (type)                 Output Shape              Param #   \n",
      "=================================================================\n",
      "embedding_35 (Embedding)     (None, 100, 50)           51700     \n",
      "_________________________________________________________________\n",
      "global_max_pooling1d_31 (Glo (None, 50)                0         \n",
      "_________________________________________________________________\n",
      "dense_69 (Dense)             (None, 35)                1785      \n",
      "_________________________________________________________________\n",
      "dense_70 (Dense)             (None, 30)                1080      \n",
      "=================================================================\n",
      "Total params: 54,565\n",
      "Trainable params: 2,865\n",
      "Non-trainable params: 51,700\n",
      "_________________________________________________________________\n",
      "Train on 1275 samples, validate on 425 samples\n",
      "Epoch 1/200\n",
      "1275/1275 [==============================] - 3s 2ms/step - loss: 3.3711 - acc: 0.0816 - val_loss: 3.2579 - val_acc: 0.1153\n",
      "Epoch 2/200\n",
      "1275/1275 [==============================] - 0s 308us/step - loss: 3.2051 - acc: 0.1278 - val_loss: 3.1533 - val_acc: 0.1176\n",
      "Epoch 3/200\n",
      "1275/1275 [==============================] - 0s 324us/step - loss: 3.0915 - acc: 0.1208 - val_loss: 3.0200 - val_acc: 0.1200\n",
      "Epoch 4/200\n",
      "1275/1275 [==============================] - 0s 334us/step - loss: 2.9285 - acc: 0.1569 - val_loss: 2.8089 - val_acc: 0.2729\n",
      "Epoch 5/200\n",
      "1275/1275 [==============================] - 0s 324us/step - loss: 2.6630 - acc: 0.3098 - val_loss: 2.5671 - val_acc: 0.3271\n",
      "Epoch 6/200\n",
      "1275/1275 [==============================] - 0s 354us/step - loss: 2.4374 - acc: 0.3757 - val_loss: 2.3819 - val_acc: 0.3671\n",
      "Epoch 7/200\n",
      "1275/1275 [==============================] - 0s 332us/step - loss: 2.2545 - acc: 0.4125 - val_loss: 2.2180 - val_acc: 0.4965\n",
      "Epoch 8/200\n",
      "1275/1275 [==============================] - 0s 336us/step - loss: 2.0899 - acc: 0.5067 - val_loss: 2.0588 - val_acc: 0.4800\n",
      "Epoch 9/200\n",
      "1275/1275 [==============================] - 0s 276us/step - loss: 1.9523 - acc: 0.5263 - val_loss: 1.9348 - val_acc: 0.5176\n",
      "Epoch 10/200\n",
      "1275/1275 [==============================] - 0s 278us/step - loss: 1.8280 - acc: 0.5639 - val_loss: 1.8355 - val_acc: 0.5365\n",
      "Epoch 11/200\n",
      "1275/1275 [==============================] - 0s 338us/step - loss: 1.7049 - acc: 0.6118 - val_loss: 1.7441 - val_acc: 0.6094\n",
      "Epoch 12/200\n",
      "1275/1275 [==============================] - 0s 347us/step - loss: 1.6202 - acc: 0.6510 - val_loss: 1.6476 - val_acc: 0.6094\n",
      "Epoch 13/200\n",
      "1275/1275 [==============================] - 1s 397us/step - loss: 1.5234 - acc: 0.6627 - val_loss: 1.5724 - val_acc: 0.6424\n",
      "Epoch 14/200\n",
      "1275/1275 [==============================] - 0s 330us/step - loss: 1.4512 - acc: 0.6776 - val_loss: 1.5060 - val_acc: 0.6235\n",
      "Epoch 15/200\n",
      "1275/1275 [==============================] - 0s 371us/step - loss: 1.3855 - acc: 0.6996 - val_loss: 1.4510 - val_acc: 0.6353\n",
      "Epoch 16/200\n",
      "1275/1275 [==============================] - 1s 425us/step - loss: 1.3165 - acc: 0.7051 - val_loss: 1.3844 - val_acc: 0.6682\n",
      "Epoch 17/200\n",
      "1275/1275 [==============================] - 0s 368us/step - loss: 1.2644 - acc: 0.7145 - val_loss: 1.3226 - val_acc: 0.6894\n",
      "Epoch 18/200\n",
      "1275/1275 [==============================] - 1s 397us/step - loss: 1.2114 - acc: 0.7224 - val_loss: 1.2833 - val_acc: 0.6871\n",
      "Epoch 19/200\n",
      "1275/1275 [==============================] - 0s 313us/step - loss: 1.1613 - acc: 0.7247 - val_loss: 1.2330 - val_acc: 0.6918\n",
      "Epoch 20/200\n",
      "1275/1275 [==============================] - 0s 360us/step - loss: 1.1248 - acc: 0.7310 - val_loss: 1.1918 - val_acc: 0.6918\n",
      "Epoch 21/200\n",
      "1275/1275 [==============================] - 0s 352us/step - loss: 1.0848 - acc: 0.7475 - val_loss: 1.1625 - val_acc: 0.7035\n",
      "Epoch 22/200\n",
      "1275/1275 [==============================] - 0s 365us/step - loss: 1.0569 - acc: 0.7365 - val_loss: 1.1447 - val_acc: 0.6941\n",
      "Epoch 23/200\n",
      "1275/1275 [==============================] - 0s 324us/step - loss: 1.0163 - acc: 0.7420 - val_loss: 1.1204 - val_acc: 0.6918\n",
      "Epoch 24/200\n",
      "1275/1275 [==============================] - 0s 311us/step - loss: 0.9882 - acc: 0.7490 - val_loss: 1.0724 - val_acc: 0.7129\n",
      "Epoch 25/200\n",
      "1275/1275 [==============================] - 0s 301us/step - loss: 0.9569 - acc: 0.7576 - val_loss: 1.0637 - val_acc: 0.7059\n",
      "Epoch 26/200\n",
      "1275/1275 [==============================] - 0s 356us/step - loss: 0.9352 - acc: 0.7725 - val_loss: 1.0211 - val_acc: 0.7365\n",
      "Epoch 27/200\n",
      "1275/1275 [==============================] - 0s 291us/step - loss: 0.9132 - acc: 0.7631 - val_loss: 1.0003 - val_acc: 0.7176\n",
      "Epoch 28/200\n",
      "1275/1275 [==============================] - 0s 323us/step - loss: 0.8867 - acc: 0.7749 - val_loss: 0.9837 - val_acc: 0.7365\n",
      "Epoch 29/200\n",
      "1275/1275 [==============================] - 0s 312us/step - loss: 0.8691 - acc: 0.7655 - val_loss: 0.9572 - val_acc: 0.7365\n",
      "Epoch 30/200\n",
      "1275/1275 [==============================] - 0s 302us/step - loss: 0.8485 - acc: 0.7882 - val_loss: 0.9410 - val_acc: 0.7388\n",
      "Epoch 31/200\n",
      "1275/1275 [==============================] - 0s 314us/step - loss: 0.8304 - acc: 0.7773 - val_loss: 0.9193 - val_acc: 0.7365\n",
      "Epoch 32/200\n",
      "1275/1275 [==============================] - 0s 315us/step - loss: 0.8130 - acc: 0.7859 - val_loss: 0.9244 - val_acc: 0.7576\n",
      "Epoch 33/200\n",
      "1275/1275 [==============================] - 0s 313us/step - loss: 0.7897 - acc: 0.7914 - val_loss: 0.9006 - val_acc: 0.7247\n",
      "Epoch 34/200\n",
      "1275/1275 [==============================] - 0s 331us/step - loss: 0.7773 - acc: 0.7929 - val_loss: 0.8819 - val_acc: 0.7506\n",
      "Epoch 35/200\n",
      "1275/1275 [==============================] - 0s 325us/step - loss: 0.7663 - acc: 0.7914 - val_loss: 0.8893 - val_acc: 0.7529\n",
      "Epoch 36/200\n",
      "1275/1275 [==============================] - 0s 347us/step - loss: 0.7435 - acc: 0.7992 - val_loss: 0.8271 - val_acc: 0.7694\n",
      "Epoch 37/200\n",
      "1275/1275 [==============================] - 0s 363us/step - loss: 0.7393 - acc: 0.8055 - val_loss: 0.8318 - val_acc: 0.7741\n",
      "Epoch 38/200\n",
      "1275/1275 [==============================] - 0s 301us/step - loss: 0.7241 - acc: 0.8102 - val_loss: 0.8337 - val_acc: 0.7388\n",
      "Epoch 39/200\n",
      "1275/1275 [==============================] - 0s 350us/step - loss: 0.7036 - acc: 0.8086 - val_loss: 0.7932 - val_acc: 0.7929\n",
      "Epoch 40/200\n",
      "1275/1275 [==============================] - 0s 335us/step - loss: 0.6996 - acc: 0.8094 - val_loss: 0.8125 - val_acc: 0.7553\n",
      "Epoch 41/200\n",
      "1275/1275 [==============================] - 0s 351us/step - loss: 0.6761 - acc: 0.8165 - val_loss: 0.7877 - val_acc: 0.7835\n",
      "Epoch 42/200\n",
      "1275/1275 [==============================] - 0s 342us/step - loss: 0.6727 - acc: 0.8220 - val_loss: 0.7918 - val_acc: 0.7718\n",
      "Epoch 43/200\n",
      "1275/1275 [==============================] - 0s 324us/step - loss: 0.6619 - acc: 0.8290 - val_loss: 0.7644 - val_acc: 0.7859\n",
      "Epoch 44/200\n",
      "1275/1275 [==============================] - 0s 323us/step - loss: 0.6488 - acc: 0.8196 - val_loss: 0.7474 - val_acc: 0.7859\n",
      "Epoch 45/200\n",
      "1275/1275 [==============================] - 0s 302us/step - loss: 0.6331 - acc: 0.8282 - val_loss: 0.7493 - val_acc: 0.7953\n",
      "Epoch 46/200\n",
      "1275/1275 [==============================] - 0s 362us/step - loss: 0.6329 - acc: 0.8282 - val_loss: 0.7318 - val_acc: 0.7882\n",
      "Epoch 47/200\n",
      "1275/1275 [==============================] - 0s 351us/step - loss: 0.6191 - acc: 0.8275 - val_loss: 0.7173 - val_acc: 0.8000\n",
      "Epoch 48/200\n",
      "1275/1275 [==============================] - 0s 329us/step - loss: 0.6121 - acc: 0.8306 - val_loss: 0.7229 - val_acc: 0.7812\n",
      "Epoch 49/200\n",
      "1275/1275 [==============================] - 0s 298us/step - loss: 0.6002 - acc: 0.8384 - val_loss: 0.7013 - val_acc: 0.7929\n",
      "Epoch 50/200\n",
      "1275/1275 [==============================] - 0s 334us/step - loss: 0.5855 - acc: 0.8314 - val_loss: 0.7111 - val_acc: 0.7906\n",
      "Epoch 51/200\n",
      "1275/1275 [==============================] - 0s 346us/step - loss: 0.5800 - acc: 0.8424 - val_loss: 0.6879 - val_acc: 0.7859\n",
      "Epoch 52/200\n",
      "1275/1275 [==============================] - 0s 322us/step - loss: 0.5677 - acc: 0.8447 - val_loss: 0.6879 - val_acc: 0.7906\n",
      "Epoch 53/200\n",
      "1275/1275 [==============================] - 0s 337us/step - loss: 0.5619 - acc: 0.8431 - val_loss: 0.6779 - val_acc: 0.8047\n"
     ]
    },
    {
     "name": "stdout",
     "output_type": "stream",
     "text": [
      "Epoch 54/200\n",
      "1275/1275 [==============================] - 0s 293us/step - loss: 0.5518 - acc: 0.8447 - val_loss: 0.6820 - val_acc: 0.7929\n",
      "Epoch 55/200\n",
      "1275/1275 [==============================] - 0s 345us/step - loss: 0.5451 - acc: 0.8455 - val_loss: 0.6580 - val_acc: 0.8047\n",
      "Epoch 56/200\n",
      "1275/1275 [==============================] - 0s 368us/step - loss: 0.5415 - acc: 0.8541 - val_loss: 0.6599 - val_acc: 0.7976\n",
      "Epoch 57/200\n",
      "1275/1275 [==============================] - 0s 317us/step - loss: 0.5335 - acc: 0.8533 - val_loss: 0.6547 - val_acc: 0.8094\n",
      "Epoch 58/200\n",
      "1275/1275 [==============================] - 0s 360us/step - loss: 0.5286 - acc: 0.8533 - val_loss: 0.6432 - val_acc: 0.8047\n",
      "Epoch 59/200\n",
      "1275/1275 [==============================] - 0s 340us/step - loss: 0.5224 - acc: 0.8557 - val_loss: 0.6399 - val_acc: 0.7976\n",
      "Epoch 60/200\n",
      "1275/1275 [==============================] - 0s 313us/step - loss: 0.5119 - acc: 0.8557 - val_loss: 0.6519 - val_acc: 0.8118\n",
      "Epoch 61/200\n",
      "1275/1275 [==============================] - 0s 308us/step - loss: 0.5119 - acc: 0.8627 - val_loss: 0.6192 - val_acc: 0.8282\n",
      "Epoch 62/200\n",
      "1275/1275 [==============================] - 0s 306us/step - loss: 0.4957 - acc: 0.8675 - val_loss: 0.6117 - val_acc: 0.8071\n",
      "Epoch 63/200\n",
      "1275/1275 [==============================] - 0s 327us/step - loss: 0.5003 - acc: 0.8635 - val_loss: 0.6229 - val_acc: 0.8094\n",
      "Epoch 64/200\n",
      "1275/1275 [==============================] - 0s 316us/step - loss: 0.4928 - acc: 0.8769 - val_loss: 0.6293 - val_acc: 0.8165\n",
      "Epoch 65/200\n",
      "1275/1275 [==============================] - 0s 333us/step - loss: 0.4810 - acc: 0.8667 - val_loss: 0.5898 - val_acc: 0.8235\n",
      "Epoch 66/200\n",
      "1275/1275 [==============================] - 0s 359us/step - loss: 0.4763 - acc: 0.8596 - val_loss: 0.5926 - val_acc: 0.8329\n",
      "Epoch 67/200\n",
      "1275/1275 [==============================] - 0s 334us/step - loss: 0.4684 - acc: 0.8753 - val_loss: 0.6048 - val_acc: 0.8165\n",
      "Epoch 68/200\n",
      "1275/1275 [==============================] - 0s 338us/step - loss: 0.4633 - acc: 0.8690 - val_loss: 0.5733 - val_acc: 0.8353\n",
      "Epoch 69/200\n",
      "1275/1275 [==============================] - 0s 330us/step - loss: 0.4605 - acc: 0.8706 - val_loss: 0.5904 - val_acc: 0.8141\n",
      "Epoch 70/200\n",
      "1275/1275 [==============================] - 0s 307us/step - loss: 0.4570 - acc: 0.8753 - val_loss: 0.6246 - val_acc: 0.8094\n",
      "Epoch 71/200\n",
      "1275/1275 [==============================] - 0s 337us/step - loss: 0.4480 - acc: 0.8769 - val_loss: 0.5696 - val_acc: 0.8259\n",
      "Epoch 72/200\n",
      "1275/1275 [==============================] - 0s 315us/step - loss: 0.4404 - acc: 0.8824 - val_loss: 0.5623 - val_acc: 0.8165\n",
      "Epoch 73/200\n",
      "1275/1275 [==============================] - 0s 339us/step - loss: 0.4362 - acc: 0.8792 - val_loss: 0.5574 - val_acc: 0.8212\n",
      "Epoch 74/200\n",
      "1275/1275 [==============================] - 0s 356us/step - loss: 0.4360 - acc: 0.8800 - val_loss: 0.5687 - val_acc: 0.8518\n",
      "Epoch 75/200\n",
      "1275/1275 [==============================] - 0s 349us/step - loss: 0.4271 - acc: 0.8831 - val_loss: 0.5556 - val_acc: 0.8329\n",
      "Epoch 76/200\n",
      "1275/1275 [==============================] - 0s 344us/step - loss: 0.4207 - acc: 0.8831 - val_loss: 0.5744 - val_acc: 0.8282\n",
      "Epoch 77/200\n",
      "1275/1275 [==============================] - 1s 398us/step - loss: 0.4280 - acc: 0.8792 - val_loss: 0.5369 - val_acc: 0.8400\n",
      "Epoch 78/200\n",
      "1275/1275 [==============================] - 0s 387us/step - loss: 0.4108 - acc: 0.8839 - val_loss: 0.5596 - val_acc: 0.8188\n",
      "Epoch 79/200\n",
      "1275/1275 [==============================] - 0s 362us/step - loss: 0.4105 - acc: 0.8871 - val_loss: 0.5491 - val_acc: 0.8424\n",
      "Epoch 80/200\n",
      "1275/1275 [==============================] - 0s 386us/step - loss: 0.4129 - acc: 0.8769 - val_loss: 0.5377 - val_acc: 0.8306\n",
      "Epoch 81/200\n",
      "1275/1275 [==============================] - 0s 338us/step - loss: 0.4016 - acc: 0.8894 - val_loss: 0.5412 - val_acc: 0.8400\n",
      "Epoch 82/200\n",
      "1275/1275 [==============================] - 0s 320us/step - loss: 0.4022 - acc: 0.8886 - val_loss: 0.5168 - val_acc: 0.8447\n",
      "Epoch 83/200\n",
      "1275/1275 [==============================] - 0s 379us/step - loss: 0.3910 - acc: 0.8925 - val_loss: 0.5300 - val_acc: 0.8329\n",
      "Epoch 84/200\n",
      "1275/1275 [==============================] - 0s 369us/step - loss: 0.3904 - acc: 0.8878 - val_loss: 0.5138 - val_acc: 0.8447\n",
      "Epoch 85/200\n",
      "1275/1275 [==============================] - 0s 324us/step - loss: 0.3909 - acc: 0.8910 - val_loss: 0.5137 - val_acc: 0.8518\n",
      "Epoch 86/200\n",
      "1275/1275 [==============================] - 0s 308us/step - loss: 0.3919 - acc: 0.8886 - val_loss: 0.5169 - val_acc: 0.8400\n",
      "Epoch 87/200\n",
      "1275/1275 [==============================] - 0s 387us/step - loss: 0.3765 - acc: 0.8878 - val_loss: 0.5112 - val_acc: 0.8329\n",
      "Epoch 88/200\n",
      "1275/1275 [==============================] - 1s 408us/step - loss: 0.3771 - acc: 0.9012 - val_loss: 0.4994 - val_acc: 0.8541\n",
      "Epoch 89/200\n",
      "1275/1275 [==============================] - 0s 342us/step - loss: 0.3676 - acc: 0.8957 - val_loss: 0.5178 - val_acc: 0.8565\n",
      "Epoch 90/200\n",
      "1275/1275 [==============================] - 0s 364us/step - loss: 0.3645 - acc: 0.8988 - val_loss: 0.4921 - val_acc: 0.8635\n",
      "Epoch 91/200\n",
      "1275/1275 [==============================] - 0s 295us/step - loss: 0.3624 - acc: 0.9020 - val_loss: 0.4780 - val_acc: 0.8588\n",
      "Epoch 92/200\n",
      "1275/1275 [==============================] - 0s 317us/step - loss: 0.3624 - acc: 0.9012 - val_loss: 0.4777 - val_acc: 0.8706\n",
      "Epoch 93/200\n",
      "1275/1275 [==============================] - 0s 347us/step - loss: 0.3586 - acc: 0.8988 - val_loss: 0.4787 - val_acc: 0.8635\n",
      "Epoch 94/200\n",
      "1275/1275 [==============================] - 1s 436us/step - loss: 0.3567 - acc: 0.8957 - val_loss: 0.4745 - val_acc: 0.8494\n",
      "Epoch 95/200\n",
      "1275/1275 [==============================] - 1s 452us/step - loss: 0.3512 - acc: 0.9051 - val_loss: 0.4917 - val_acc: 0.8541\n",
      "Epoch 96/200\n",
      "1275/1275 [==============================] - 0s 363us/step - loss: 0.3443 - acc: 0.9106 - val_loss: 0.4852 - val_acc: 0.8541\n",
      "Epoch 97/200\n",
      "1275/1275 [==============================] - 0s 379us/step - loss: 0.3458 - acc: 0.9004 - val_loss: 0.4729 - val_acc: 0.8565\n",
      "Epoch 98/200\n",
      "1275/1275 [==============================] - 1s 564us/step - loss: 0.3389 - acc: 0.9035 - val_loss: 0.4661 - val_acc: 0.8706\n",
      "Epoch 99/200\n",
      "1275/1275 [==============================] - 1s 497us/step - loss: 0.3424 - acc: 0.9122 - val_loss: 0.4764 - val_acc: 0.8565\n",
      "Epoch 100/200\n",
      "1275/1275 [==============================] - 0s 307us/step - loss: 0.3322 - acc: 0.9043 - val_loss: 0.4576 - val_acc: 0.8588\n",
      "Epoch 101/200\n",
      "1275/1275 [==============================] - 0s 315us/step - loss: 0.3340 - acc: 0.9075 - val_loss: 0.4690 - val_acc: 0.8659\n",
      "Epoch 102/200\n",
      "1275/1275 [==============================] - 0s 328us/step - loss: 0.3334 - acc: 0.9020 - val_loss: 0.4459 - val_acc: 0.8847\n",
      "Epoch 103/200\n",
      "1275/1275 [==============================] - 0s 286us/step - loss: 0.3308 - acc: 0.9129 - val_loss: 0.4562 - val_acc: 0.8706\n",
      "Epoch 104/200\n",
      "1275/1275 [==============================] - 0s 267us/step - loss: 0.3215 - acc: 0.9161 - val_loss: 0.4562 - val_acc: 0.8800\n",
      "Epoch 105/200\n",
      "1275/1275 [==============================] - 0s 296us/step - loss: 0.3163 - acc: 0.9137 - val_loss: 0.4489 - val_acc: 0.8706\n",
      "Epoch 106/200\n",
      "1275/1275 [==============================] - 0s 323us/step - loss: 0.3198 - acc: 0.9114 - val_loss: 0.4814 - val_acc: 0.8494\n",
      "Epoch 107/200\n",
      "1275/1275 [==============================] - 0s 309us/step - loss: 0.3143 - acc: 0.9153 - val_loss: 0.4415 - val_acc: 0.8706\n",
      "Epoch 108/200\n",
      "1275/1275 [==============================] - 0s 290us/step - loss: 0.3191 - acc: 0.9098 - val_loss: 0.4310 - val_acc: 0.8894\n",
      "Epoch 109/200\n",
      "1275/1275 [==============================] - 0s 329us/step - loss: 0.3129 - acc: 0.9161 - val_loss: 0.4373 - val_acc: 0.8729\n",
      "Epoch 110/200\n",
      "1275/1275 [==============================] - 0s 276us/step - loss: 0.3113 - acc: 0.9169 - val_loss: 0.4345 - val_acc: 0.8800\n",
      "Epoch 111/200\n",
      "1275/1275 [==============================] - 0s 292us/step - loss: 0.3087 - acc: 0.9122 - val_loss: 0.4247 - val_acc: 0.8918\n",
      "Epoch 112/200\n",
      "1275/1275 [==============================] - 0s 253us/step - loss: 0.3054 - acc: 0.9176 - val_loss: 0.4277 - val_acc: 0.8871\n",
      "Epoch 113/200\n"
     ]
    },
    {
     "name": "stdout",
     "output_type": "stream",
     "text": [
      "1275/1275 [==============================] - 0s 290us/step - loss: 0.3114 - acc: 0.9075 - val_loss: 0.4290 - val_acc: 0.8894\n",
      "Epoch 114/200\n",
      "1275/1275 [==============================] - 0s 255us/step - loss: 0.2961 - acc: 0.9192 - val_loss: 0.4329 - val_acc: 0.8824\n",
      "Epoch 115/200\n",
      "1275/1275 [==============================] - 0s 250us/step - loss: 0.2958 - acc: 0.9200 - val_loss: 0.4093 - val_acc: 0.8965\n",
      "Epoch 116/200\n",
      "1275/1275 [==============================] - 0s 293us/step - loss: 0.2957 - acc: 0.9224 - val_loss: 0.4558 - val_acc: 0.8518\n",
      "Epoch 117/200\n",
      "1275/1275 [==============================] - 0s 254us/step - loss: 0.2950 - acc: 0.9216 - val_loss: 0.4571 - val_acc: 0.8376\n",
      "Epoch 118/200\n",
      "1275/1275 [==============================] - 0s 279us/step - loss: 0.2906 - acc: 0.9200 - val_loss: 0.4417 - val_acc: 0.8635\n",
      "Epoch 119/200\n",
      "1275/1275 [==============================] - 0s 251us/step - loss: 0.2854 - acc: 0.9255 - val_loss: 0.4036 - val_acc: 0.8941\n",
      "Epoch 120/200\n",
      "1275/1275 [==============================] - 0s 251us/step - loss: 0.2810 - acc: 0.9263 - val_loss: 0.4402 - val_acc: 0.8659\n",
      "Epoch 121/200\n",
      "1275/1275 [==============================] - 0s 249us/step - loss: 0.2867 - acc: 0.9216 - val_loss: 0.4214 - val_acc: 0.8824\n",
      "Epoch 122/200\n",
      "1275/1275 [==============================] - 0s 350us/step - loss: 0.2809 - acc: 0.9231 - val_loss: 0.4055 - val_acc: 0.8941\n",
      "Epoch 123/200\n",
      "1275/1275 [==============================] - 0s 302us/step - loss: 0.2818 - acc: 0.9153 - val_loss: 0.4107 - val_acc: 0.8918\n",
      "Epoch 124/200\n",
      "1275/1275 [==============================] - 0s 319us/step - loss: 0.2782 - acc: 0.9271 - val_loss: 0.4146 - val_acc: 0.8753\n",
      "Epoch 125/200\n",
      "1275/1275 [==============================] - 0s 318us/step - loss: 0.2725 - acc: 0.9286 - val_loss: 0.4205 - val_acc: 0.8894\n",
      "Epoch 126/200\n",
      "1275/1275 [==============================] - 0s 264us/step - loss: 0.2739 - acc: 0.9271 - val_loss: 0.4114 - val_acc: 0.8894\n",
      "Epoch 127/200\n",
      "1275/1275 [==============================] - 0s 285us/step - loss: 0.2666 - acc: 0.9271 - val_loss: 0.4211 - val_acc: 0.8776\n",
      "Epoch 128/200\n",
      "1275/1275 [==============================] - 0s 254us/step - loss: 0.2692 - acc: 0.9200 - val_loss: 0.3918 - val_acc: 0.8800\n",
      "Epoch 129/200\n",
      "1275/1275 [==============================] - 0s 251us/step - loss: 0.2735 - acc: 0.9208 - val_loss: 0.4221 - val_acc: 0.8753\n",
      "Epoch 130/200\n",
      "1275/1275 [==============================] - 0s 256us/step - loss: 0.2693 - acc: 0.9224 - val_loss: 0.3935 - val_acc: 0.8941\n",
      "Epoch 131/200\n",
      "1275/1275 [==============================] - 0s 316us/step - loss: 0.2658 - acc: 0.9263 - val_loss: 0.3966 - val_acc: 0.8941\n",
      "Epoch 132/200\n",
      "1275/1275 [==============================] - 0s 276us/step - loss: 0.2641 - acc: 0.9278 - val_loss: 0.4198 - val_acc: 0.8635\n",
      "Epoch 133/200\n",
      "1275/1275 [==============================] - 0s 257us/step - loss: 0.2611 - acc: 0.9310 - val_loss: 0.3998 - val_acc: 0.8847\n",
      "Epoch 134/200\n",
      "1275/1275 [==============================] - 0s 317us/step - loss: 0.2476 - acc: 0.9380 - val_loss: 0.4079 - val_acc: 0.8918\n",
      "Epoch 135/200\n",
      "1275/1275 [==============================] - 0s 256us/step - loss: 0.2586 - acc: 0.9318 - val_loss: 0.3802 - val_acc: 0.9012\n",
      "Epoch 136/200\n",
      "1275/1275 [==============================] - 0s 273us/step - loss: 0.2565 - acc: 0.9318 - val_loss: 0.3949 - val_acc: 0.8824\n",
      "Epoch 137/200\n",
      "1275/1275 [==============================] - 0s 271us/step - loss: 0.2509 - acc: 0.9396 - val_loss: 0.3848 - val_acc: 0.8988\n",
      "Epoch 138/200\n",
      "1275/1275 [==============================] - 0s 323us/step - loss: 0.2512 - acc: 0.9302 - val_loss: 0.3879 - val_acc: 0.8941\n",
      "Epoch 139/200\n",
      "1275/1275 [==============================] - 0s 368us/step - loss: 0.2479 - acc: 0.9349 - val_loss: 0.3830 - val_acc: 0.8871\n",
      "Epoch 140/200\n",
      "1275/1275 [==============================] - 0s 351us/step - loss: 0.2486 - acc: 0.9380 - val_loss: 0.3865 - val_acc: 0.8894\n",
      "Epoch 141/200\n",
      "1275/1275 [==============================] - 0s 315us/step - loss: 0.2491 - acc: 0.9373 - val_loss: 0.3898 - val_acc: 0.8847\n",
      "Epoch 142/200\n",
      "1275/1275 [==============================] - 0s 261us/step - loss: 0.2444 - acc: 0.9349 - val_loss: 0.4072 - val_acc: 0.8824\n",
      "Epoch 143/200\n",
      "1275/1275 [==============================] - 0s 326us/step - loss: 0.2478 - acc: 0.9302 - val_loss: 0.3696 - val_acc: 0.8941\n",
      "Epoch 144/200\n",
      "1275/1275 [==============================] - 0s 266us/step - loss: 0.2404 - acc: 0.9365 - val_loss: 0.3829 - val_acc: 0.8871\n",
      "Epoch 145/200\n",
      "1275/1275 [==============================] - 0s 262us/step - loss: 0.2385 - acc: 0.9412 - val_loss: 0.3789 - val_acc: 0.8871\n",
      "Epoch 146/200\n",
      "1275/1275 [==============================] - 0s 266us/step - loss: 0.2378 - acc: 0.9255 - val_loss: 0.3769 - val_acc: 0.9082\n",
      "Epoch 147/200\n",
      "1275/1275 [==============================] - 0s 252us/step - loss: 0.2381 - acc: 0.9357 - val_loss: 0.3980 - val_acc: 0.8965\n",
      "Epoch 148/200\n",
      "1275/1275 [==============================] - 0s 251us/step - loss: 0.2341 - acc: 0.9443 - val_loss: 0.3944 - val_acc: 0.8824\n",
      "Epoch 149/200\n",
      "1275/1275 [==============================] - 0s 256us/step - loss: 0.2358 - acc: 0.9451 - val_loss: 0.4038 - val_acc: 0.8753\n",
      "Epoch 150/200\n",
      "1275/1275 [==============================] - 0s 249us/step - loss: 0.2315 - acc: 0.9388 - val_loss: 0.3640 - val_acc: 0.9106\n",
      "Epoch 151/200\n",
      "1275/1275 [==============================] - 0s 248us/step - loss: 0.2279 - acc: 0.9365 - val_loss: 0.3676 - val_acc: 0.8918\n",
      "Epoch 152/200\n",
      "1275/1275 [==============================] - 0s 251us/step - loss: 0.2289 - acc: 0.9380 - val_loss: 0.3621 - val_acc: 0.9059\n",
      "Epoch 153/200\n",
      "1275/1275 [==============================] - 0s 251us/step - loss: 0.2285 - acc: 0.9396 - val_loss: 0.3506 - val_acc: 0.9200\n",
      "Epoch 154/200\n",
      "1275/1275 [==============================] - 0s 253us/step - loss: 0.2268 - acc: 0.9412 - val_loss: 0.4062 - val_acc: 0.9059\n",
      "Epoch 155/200\n",
      "1275/1275 [==============================] - 0s 272us/step - loss: 0.2250 - acc: 0.9396 - val_loss: 0.3726 - val_acc: 0.8965\n",
      "Epoch 156/200\n",
      "1275/1275 [==============================] - 0s 261us/step - loss: 0.2269 - acc: 0.9420 - val_loss: 0.3556 - val_acc: 0.9129\n",
      "Epoch 157/200\n",
      "1275/1275 [==============================] - 0s 308us/step - loss: 0.2195 - acc: 0.9388 - val_loss: 0.3824 - val_acc: 0.8965\n",
      "Epoch 158/200\n",
      "1275/1275 [==============================] - 0s 257us/step - loss: 0.2178 - acc: 0.9412 - val_loss: 0.3654 - val_acc: 0.9106\n",
      "Epoch 159/200\n",
      "1275/1275 [==============================] - 0s 310us/step - loss: 0.2210 - acc: 0.9357 - val_loss: 0.4027 - val_acc: 0.8965\n",
      "Epoch 160/200\n",
      "1275/1275 [==============================] - 0s 328us/step - loss: 0.2293 - acc: 0.9357 - val_loss: 0.3614 - val_acc: 0.9012\n",
      "Epoch 161/200\n",
      "1275/1275 [==============================] - 0s 301us/step - loss: 0.2199 - acc: 0.9396 - val_loss: 0.3647 - val_acc: 0.8988\n",
      "Epoch 162/200\n",
      "1275/1275 [==============================] - 0s 301us/step - loss: 0.2142 - acc: 0.9427 - val_loss: 0.3593 - val_acc: 0.9106\n",
      "Epoch 163/200\n",
      "1275/1275 [==============================] - 0s 329us/step - loss: 0.2180 - acc: 0.9412 - val_loss: 0.4014 - val_acc: 0.8965\n",
      "Epoch 164/200\n",
      "1275/1275 [==============================] - 0s 323us/step - loss: 0.2089 - acc: 0.9404 - val_loss: 0.3511 - val_acc: 0.9035\n",
      "Epoch 165/200\n",
      "1275/1275 [==============================] - 0s 314us/step - loss: 0.2123 - acc: 0.9490 - val_loss: 0.3477 - val_acc: 0.9153\n",
      "Epoch 166/200\n",
      "1275/1275 [==============================] - 0s 265us/step - loss: 0.2088 - acc: 0.9443 - val_loss: 0.3998 - val_acc: 0.9012\n",
      "Epoch 167/200\n",
      "1275/1275 [==============================] - 0s 303us/step - loss: 0.2168 - acc: 0.9451 - val_loss: 0.4025 - val_acc: 0.9082\n",
      "Epoch 168/200\n",
      "1275/1275 [==============================] - 0s 281us/step - loss: 0.2048 - acc: 0.9451 - val_loss: 0.3450 - val_acc: 0.9153\n",
      "Epoch 169/200\n",
      "1275/1275 [==============================] - 0s 267us/step - loss: 0.2031 - acc: 0.9396 - val_loss: 0.3939 - val_acc: 0.9012\n",
      "Epoch 170/200\n",
      "1275/1275 [==============================] - 0s 332us/step - loss: 0.2093 - acc: 0.9443 - val_loss: 0.3341 - val_acc: 0.9129\n",
      "Epoch 171/200\n",
      "1275/1275 [==============================] - 0s 298us/step - loss: 0.2060 - acc: 0.9451 - val_loss: 0.3462 - val_acc: 0.9082\n",
      "Epoch 172/200\n"
     ]
    },
    {
     "name": "stdout",
     "output_type": "stream",
     "text": [
      "1275/1275 [==============================] - 0s 302us/step - loss: 0.2018 - acc: 0.9427 - val_loss: 0.4041 - val_acc: 0.8965\n",
      "Epoch 173/200\n",
      "1275/1275 [==============================] - 0s 298us/step - loss: 0.2065 - acc: 0.9388 - val_loss: 0.3798 - val_acc: 0.9059\n",
      "Epoch 174/200\n",
      "1275/1275 [==============================] - 0s 257us/step - loss: 0.1993 - acc: 0.9396 - val_loss: 0.3706 - val_acc: 0.9129\n",
      "Epoch 175/200\n",
      "1275/1275 [==============================] - 0s 299us/step - loss: 0.1974 - acc: 0.9404 - val_loss: 0.4258 - val_acc: 0.8918\n",
      "Epoch 176/200\n",
      "1275/1275 [==============================] - 0s 291us/step - loss: 0.2076 - acc: 0.9420 - val_loss: 0.3725 - val_acc: 0.9082\n",
      "Epoch 177/200\n",
      "1275/1275 [==============================] - 0s 318us/step - loss: 0.2001 - acc: 0.9467 - val_loss: 0.3778 - val_acc: 0.9153\n",
      "Epoch 178/200\n",
      "1275/1275 [==============================] - 0s 314us/step - loss: 0.2002 - acc: 0.9396 - val_loss: 0.3861 - val_acc: 0.9035\n",
      "Epoch 179/200\n",
      "1275/1275 [==============================] - 0s 275us/step - loss: 0.2012 - acc: 0.9467 - val_loss: 0.3843 - val_acc: 0.8965\n",
      "Epoch 180/200\n",
      "1275/1275 [==============================] - 0s 265us/step - loss: 0.1964 - acc: 0.9467 - val_loss: 0.3927 - val_acc: 0.9035\n",
      "Epoch 181/200\n",
      "1275/1275 [==============================] - 0s 279us/step - loss: 0.1907 - acc: 0.9514 - val_loss: 0.3756 - val_acc: 0.9200\n",
      "Epoch 182/200\n",
      "1275/1275 [==============================] - 1s 494us/step - loss: 0.2040 - acc: 0.9498 - val_loss: 0.3827 - val_acc: 0.8941\n",
      "Epoch 183/200\n",
      "1275/1275 [==============================] - 1s 459us/step - loss: 0.1889 - acc: 0.9467 - val_loss: 0.3701 - val_acc: 0.9247\n",
      "Epoch 184/200\n",
      "1275/1275 [==============================] - 0s 334us/step - loss: 0.1902 - acc: 0.9506 - val_loss: 0.3798 - val_acc: 0.9129\n",
      "Epoch 185/200\n",
      "1275/1275 [==============================] - 0s 308us/step - loss: 0.2001 - acc: 0.9435 - val_loss: 0.4380 - val_acc: 0.8918\n",
      "Epoch 186/200\n",
      "1275/1275 [==============================] - 0s 307us/step - loss: 0.1952 - acc: 0.9443 - val_loss: 0.3558 - val_acc: 0.9129\n",
      "Epoch 187/200\n",
      "1275/1275 [==============================] - 0s 303us/step - loss: 0.1922 - acc: 0.9475 - val_loss: 0.3606 - val_acc: 0.9129\n",
      "Epoch 188/200\n",
      "1275/1275 [==============================] - 0s 348us/step - loss: 0.1968 - acc: 0.9443 - val_loss: 0.3694 - val_acc: 0.9035\n",
      "Epoch 189/200\n",
      "1275/1275 [==============================] - 0s 341us/step - loss: 0.1893 - acc: 0.9459 - val_loss: 0.3673 - val_acc: 0.9012\n",
      "Epoch 190/200\n",
      "1275/1275 [==============================] - 0s 357us/step - loss: 0.1788 - acc: 0.9506 - val_loss: 0.3678 - val_acc: 0.9059\n",
      "Epoch 191/200\n",
      "1275/1275 [==============================] - 0s 312us/step - loss: 0.1826 - acc: 0.9498 - val_loss: 0.3856 - val_acc: 0.8941\n",
      "Epoch 192/200\n",
      "1275/1275 [==============================] - 0s 354us/step - loss: 0.1917 - acc: 0.9522 - val_loss: 0.3641 - val_acc: 0.9247\n",
      "Epoch 193/200\n",
      "1275/1275 [==============================] - 0s 322us/step - loss: 0.1782 - acc: 0.9537 - val_loss: 0.3842 - val_acc: 0.8988\n",
      "Epoch 194/200\n",
      "1275/1275 [==============================] - 0s 376us/step - loss: 0.1839 - acc: 0.9537 - val_loss: 0.3541 - val_acc: 0.9176\n",
      "Epoch 195/200\n",
      "1275/1275 [==============================] - 0s 354us/step - loss: 0.1919 - acc: 0.9490 - val_loss: 0.3745 - val_acc: 0.9012\n",
      "Epoch 196/200\n",
      "1275/1275 [==============================] - 0s 338us/step - loss: 0.1751 - acc: 0.9506 - val_loss: 0.3662 - val_acc: 0.9247\n",
      "Epoch 197/200\n",
      "1275/1275 [==============================] - 0s 318us/step - loss: 0.1859 - acc: 0.9537 - val_loss: 0.3628 - val_acc: 0.9129\n",
      "Epoch 198/200\n",
      "1275/1275 [==============================] - 0s 309us/step - loss: 0.1787 - acc: 0.9498 - val_loss: 0.3555 - val_acc: 0.9153\n",
      "Epoch 199/200\n",
      "1275/1275 [==============================] - 0s 324us/step - loss: 0.1773 - acc: 0.9514 - val_loss: 0.3698 - val_acc: 0.9224\n",
      "Epoch 200/200\n",
      "1275/1275 [==============================] - 0s 297us/step - loss: 0.1758 - acc: 0.9522 - val_loss: 0.3580 - val_acc: 0.9224\n"
     ]
    }
   ],
   "source": [
    "model = Sequential()\n",
    "model.add(layers.Embedding(vocab_size, embedding_dim, \n",
    "                           weights=[embedding_matrix], \n",
    "                           input_length=maxlen, \n",
    "                           trainable=False))\n",
    "model.add(layers.GlobalMaxPool1D())\n",
    "model.add(layers.Dense(35, activation='relu'))\n",
    "model.add(layers.Dense(30, activation='sigmoid'))\n",
    "model.compile(optimizer='adam',\n",
    "              loss='categorical_crossentropy',\n",
    "              metrics=['accuracy'])\n",
    "model.summary()\n",
    "\n",
    "history = model.fit(X_train, y_train_hot,\n",
    "                    epochs=200,\n",
    "                    verbose=True,\n",
    "                    validation_data=(X_test, y_test_hot),\n",
    "                    batch_size=10)\n",
    "\n"
   ]
  },
  {
   "cell_type": "code",
   "execution_count": 269,
   "metadata": {},
   "outputs": [
    {
     "name": "stdout",
     "output_type": "stream",
     "text": [
      "Training Accuracy: 0.9592\n",
      "Testing Accuracy:  0.9224\n"
     ]
    }
   ],
   "source": [
    "loss, accuracy = model.evaluate(X_train, y_train_hot, verbose=False)\n",
    "print(\"Training Accuracy: {:.4f}\".format(accuracy))\n",
    "loss, accuracy = model.evaluate(X_test, y_test_hot, verbose=False)\n",
    "print(\"Testing Accuracy:  {:.4f}\".format(accuracy))"
   ]
  },
  {
   "cell_type": "code",
   "execution_count": 270,
   "metadata": {},
   "outputs": [
    {
     "data": {
      "image/png": "[encoded data removed]",
      "text/plain": [
       "<Figure size 864x360 with 2 Axes>"
      ]
     },
     "metadata": {},
     "output_type": "display_data"
    }
   ],
   "source": [
    "plot_history(history)\n"
   ]
  },
  {
   "cell_type": "markdown",
   "metadata": {},
   "source": [
    "### 11. Neural Network with training of embedding matrix\n",
    "Glove word vector is used with retraining with respect to currecnt dataset "
   ]
  },
  {
   "cell_type": "code",
   "execution_count": 271,
   "metadata": {
    "scrolled": true
   },
   "outputs": [
    {
     "name": "stdout",
     "output_type": "stream",
     "text": [
      "_________________________________________________________________\n",
      "Layer (type)                 Output Shape              Param #   \n",
      "=================================================================\n",
      "embedding_36 (Embedding)     (None, 100, 50)           51700     \n",
      "_________________________________________________________________\n",
      "global_max_pooling1d_32 (Glo (None, 50)                0         \n",
      "_________________________________________________________________\n",
      "dense_71 (Dense)             (None, 35)                1785      \n",
      "_________________________________________________________________\n",
      "dense_72 (Dense)             (None, 30)                1080      \n",
      "=================================================================\n",
      "Total params: 54,565\n",
      "Trainable params: 54,565\n",
      "Non-trainable params: 0\n",
      "_________________________________________________________________\n",
      "Train on 1275 samples, validate on 425 samples\n",
      "Epoch 1/50\n",
      "1275/1275 [==============================] - 3s 2ms/step - loss: 3.2739 - acc: 0.0855 - val_loss: 3.1202 - val_acc: 0.1200\n",
      "Epoch 2/50\n",
      "1275/1275 [==============================] - 0s 377us/step - loss: 2.9713 - acc: 0.1412 - val_loss: 2.7887 - val_acc: 0.2329\n",
      "Epoch 3/50\n",
      "1275/1275 [==============================] - 1s 437us/step - loss: 2.5365 - acc: 0.3122 - val_loss: 2.2914 - val_acc: 0.4071\n",
      "Epoch 4/50\n",
      "1275/1275 [==============================] - 1s 461us/step - loss: 2.0359 - acc: 0.5318 - val_loss: 1.8295 - val_acc: 0.6306\n",
      "Epoch 5/50\n",
      "1275/1275 [==============================] - 0s 385us/step - loss: 1.5761 - acc: 0.6996 - val_loss: 1.4665 - val_acc: 0.7176\n",
      "Epoch 6/50\n",
      "1275/1275 [==============================] - 1s 435us/step - loss: 1.2346 - acc: 0.7851 - val_loss: 1.2045 - val_acc: 0.7741\n",
      "Epoch 7/50\n",
      "1275/1275 [==============================] - 1s 471us/step - loss: 0.9768 - acc: 0.8416 - val_loss: 0.9468 - val_acc: 0.8306\n",
      "Epoch 8/50\n",
      "1275/1275 [==============================] - 1s 455us/step - loss: 0.7784 - acc: 0.8620 - val_loss: 0.7789 - val_acc: 0.8565\n",
      "Epoch 9/50\n",
      "1275/1275 [==============================] - 1s 472us/step - loss: 0.6329 - acc: 0.8980 - val_loss: 0.6479 - val_acc: 0.8776\n",
      "Epoch 10/50\n",
      "1275/1275 [==============================] - 1s 483us/step - loss: 0.5115 - acc: 0.9184 - val_loss: 0.5584 - val_acc: 0.8894\n",
      "Epoch 11/50\n",
      "1275/1275 [==============================] - 1s 524us/step - loss: 0.4232 - acc: 0.9294 - val_loss: 0.4701 - val_acc: 0.9082\n",
      "Epoch 12/50\n",
      "1275/1275 [==============================] - 1s 521us/step - loss: 0.3561 - acc: 0.9396 - val_loss: 0.4086 - val_acc: 0.9271\n",
      "Epoch 13/50\n",
      "1275/1275 [==============================] - 1s 486us/step - loss: 0.2974 - acc: 0.9537 - val_loss: 0.3465 - val_acc: 0.9341\n",
      "Epoch 14/50\n",
      "1275/1275 [==============================] - 1s 445us/step - loss: 0.2528 - acc: 0.9522 - val_loss: 0.3117 - val_acc: 0.9412\n",
      "Epoch 15/50\n",
      "1275/1275 [==============================] - 1s 444us/step - loss: 0.2139 - acc: 0.9647 - val_loss: 0.2741 - val_acc: 0.9318\n",
      "Epoch 16/50\n",
      "1275/1275 [==============================] - 1s 446us/step - loss: 0.1839 - acc: 0.9686 - val_loss: 0.2354 - val_acc: 0.9624\n",
      "Epoch 17/50\n",
      "1275/1275 [==============================] - 1s 447us/step - loss: 0.1591 - acc: 0.9741 - val_loss: 0.2127 - val_acc: 0.9647\n",
      "Epoch 18/50\n",
      "1275/1275 [==============================] - 1s 461us/step - loss: 0.1386 - acc: 0.9725 - val_loss: 0.1878 - val_acc: 0.9741\n",
      "Epoch 19/50\n",
      "1275/1275 [==============================] - 1s 465us/step - loss: 0.1215 - acc: 0.9788 - val_loss: 0.1656 - val_acc: 0.9718\n",
      "Epoch 20/50\n",
      "1275/1275 [==============================] - 1s 490us/step - loss: 0.1067 - acc: 0.9827 - val_loss: 0.1589 - val_acc: 0.9694\n",
      "Epoch 21/50\n",
      "1275/1275 [==============================] - 1s 463us/step - loss: 0.0905 - acc: 0.9859 - val_loss: 0.1447 - val_acc: 0.9765\n",
      "Epoch 22/50\n",
      "1275/1275 [==============================] - 1s 470us/step - loss: 0.0853 - acc: 0.9812 - val_loss: 0.1307 - val_acc: 0.9812\n",
      "Epoch 23/50\n",
      "1275/1275 [==============================] - 1s 456us/step - loss: 0.0757 - acc: 0.9835 - val_loss: 0.1196 - val_acc: 0.9694\n",
      "Epoch 24/50\n",
      "1275/1275 [==============================] - 1s 446us/step - loss: 0.0658 - acc: 0.9843 - val_loss: 0.1087 - val_acc: 0.9835\n",
      "Epoch 25/50\n",
      "1275/1275 [==============================] - 1s 456us/step - loss: 0.0600 - acc: 0.9843 - val_loss: 0.1074 - val_acc: 0.9671\n",
      "Epoch 26/50\n",
      "1275/1275 [==============================] - 1s 490us/step - loss: 0.0495 - acc: 0.9906 - val_loss: 0.1307 - val_acc: 0.9671\n",
      "Epoch 27/50\n",
      "1275/1275 [==============================] - 1s 539us/step - loss: 0.0467 - acc: 0.9914 - val_loss: 0.0971 - val_acc: 0.9718\n",
      "Epoch 28/50\n",
      "1275/1275 [==============================] - 1s 512us/step - loss: 0.0408 - acc: 0.9914 - val_loss: 0.0859 - val_acc: 0.9835\n",
      "Epoch 29/50\n",
      "1275/1275 [==============================] - 1s 426us/step - loss: 0.0380 - acc: 0.9906 - val_loss: 0.0950 - val_acc: 0.9671\n",
      "Epoch 30/50\n",
      "1275/1275 [==============================] - 1s 417us/step - loss: 0.0341 - acc: 0.9929 - val_loss: 0.1016 - val_acc: 0.9671\n",
      "Epoch 31/50\n",
      "1275/1275 [==============================] - 1s 436us/step - loss: 0.0361 - acc: 0.9914 - val_loss: 0.0804 - val_acc: 0.9718\n",
      "Epoch 32/50\n",
      "1275/1275 [==============================] - 1s 414us/step - loss: 0.0288 - acc: 0.9914 - val_loss: 0.0696 - val_acc: 0.9882\n",
      "Epoch 33/50\n",
      "1275/1275 [==============================] - 1s 450us/step - loss: 0.0261 - acc: 0.9937 - val_loss: 0.0722 - val_acc: 0.9718\n",
      "Epoch 34/50\n",
      "1275/1275 [==============================] - 1s 421us/step - loss: 0.0244 - acc: 0.9929 - val_loss: 0.0794 - val_acc: 0.9718\n",
      "Epoch 35/50\n",
      "1275/1275 [==============================] - 1s 434us/step - loss: 0.0252 - acc: 0.9929 - val_loss: 0.0650 - val_acc: 0.9788\n",
      "Epoch 36/50\n",
      "1275/1275 [==============================] - 1s 451us/step - loss: 0.0221 - acc: 0.9914 - val_loss: 0.0636 - val_acc: 0.9906\n",
      "Epoch 37/50\n",
      "1275/1275 [==============================] - 1s 425us/step - loss: 0.0206 - acc: 0.9929 - val_loss: 0.0704 - val_acc: 0.9718\n",
      "Epoch 38/50\n",
      "1275/1275 [==============================] - 1s 462us/step - loss: 0.0202 - acc: 0.9922 - val_loss: 0.0773 - val_acc: 0.9718\n",
      "Epoch 39/50\n",
      "1275/1275 [==============================] - 1s 491us/step - loss: 0.0204 - acc: 0.9945 - val_loss: 0.0650 - val_acc: 0.9882\n",
      "Epoch 40/50\n",
      "1275/1275 [==============================] - 1s 464us/step - loss: 0.0187 - acc: 0.9945 - val_loss: 0.0870 - val_acc: 0.9835\n",
      "Epoch 41/50\n",
      "1275/1275 [==============================] - 1s 456us/step - loss: 0.0158 - acc: 0.9961 - val_loss: 0.0825 - val_acc: 0.9906\n",
      "Epoch 42/50\n",
      "1275/1275 [==============================] - 1s 486us/step - loss: 0.0164 - acc: 0.9929 - val_loss: 0.0832 - val_acc: 0.9882\n",
      "Epoch 43/50\n",
      "1275/1275 [==============================] - 1s 494us/step - loss: 0.0195 - acc: 0.9929 - val_loss: 0.0593 - val_acc: 0.9835\n",
      "Epoch 44/50\n",
      "1275/1275 [==============================] - 1s 545us/step - loss: 0.0164 - acc: 0.9929 - val_loss: 0.0645 - val_acc: 0.9718\n",
      "Epoch 45/50\n",
      "1275/1275 [==============================] - 1s 452us/step - loss: 0.0175 - acc: 0.9929 - val_loss: 0.0574 - val_acc: 0.9882\n",
      "Epoch 46/50\n",
      "1275/1275 [==============================] - 1s 518us/step - loss: 0.0142 - acc: 0.9945 - val_loss: 0.0821 - val_acc: 0.9882\n",
      "Epoch 47/50\n",
      "1275/1275 [==============================] - 1s 575us/step - loss: 0.0173 - acc: 0.9937 - val_loss: 0.0808 - val_acc: 0.9906\n",
      "Epoch 48/50\n",
      "1275/1275 [==============================] - 1s 455us/step - loss: 0.0137 - acc: 0.9953 - val_loss: 0.0780 - val_acc: 0.9718\n",
      "Epoch 49/50\n",
      "1275/1275 [==============================] - 1s 457us/step - loss: 0.0171 - acc: 0.9929 - val_loss: 0.0648 - val_acc: 0.9718\n",
      "Epoch 50/50\n",
      "1275/1275 [==============================] - 1s 495us/step - loss: 0.0173 - acc: 0.9922 - val_loss: 0.0723 - val_acc: 0.9718\n"
     ]
    }
   ],
   "source": [
    "model = Sequential()\n",
    "model.add(layers.Embedding(vocab_size, embedding_dim, \n",
    "                           weights=[embedding_matrix], \n",
    "                           input_length=maxlen, \n",
    "                           trainable=True))\n",
    "model.add(layers.GlobalMaxPool1D())\n",
    "model.add(layers.Dense(35, activation='relu'))\n",
    "model.add(layers.Dense(30, activation='sigmoid'))\n",
    "model.compile(optimizer='adam',\n",
    "              loss='categorical_crossentropy',\n",
    "              metrics=['accuracy'])\n",
    "model.summary()\n",
    "\n",
    "history = model.fit(X_train, y_train_hot,\n",
    "                    epochs=50,\n",
    "                    verbose=True,\n",
    "                    validation_data=(X_test, y_test_hot),\n",
    "                    batch_size=10)\n",
    "\n"
   ]
  },
  {
   "cell_type": "code",
   "execution_count": 272,
   "metadata": {},
   "outputs": [
    {
     "name": "stdout",
     "output_type": "stream",
     "text": [
      "Training Accuracy: 0.9929\n",
      "Testing Accuracy:  0.9718\n"
     ]
    },
    {
     "data": {
      "image/png": "[encoded data removed]",
      "text/plain": [
       "<Figure size 864x360 with 2 Axes>"
      ]
     },
     "metadata": {},
     "output_type": "display_data"
    }
   ],
   "source": [
    "loss, accuracy = model.evaluate(X_train, y_train_hot, verbose=False)\n",
    "print(\"Training Accuracy: {:.4f}\".format(accuracy))\n",
    "loss, accuracy = model.evaluate(X_test, y_test_hot, verbose=False)\n",
    "print(\"Testing Accuracy:  {:.4f}\".format(accuracy))\n",
    "plot_history(history)"
   ]
  },
  {
   "cell_type": "code",
   "execution_count": 273,
   "metadata": {},
   "outputs": [
    {
     "data": {
      "text/plain": [
       "<matplotlib.axes._subplots.AxesSubplot at 0x14f7695c0>"
      ]
     },
     "execution_count": 273,
     "metadata": {},
     "output_type": "execute_result"
    },
    {
     "data": {
      "image/png": "[encoded data removed]",
      "text/plain": [
       "<Figure size 720x504 with 2 Axes>"
      ]
     },
     "metadata": {},
     "output_type": "display_data"
    }
   ],
   "source": [
    "y_pred = model.predict(X_test)\n",
    "y_pred = hotdecode(y_pred)\n",
    "\n",
    "cm=confusion_matrix(y_test, y_pred)\n",
    "\n",
    "index = columns = [i for i in range(len(cm))]\n",
    "df_cm = pd.DataFrame(cm, index = index,\n",
    "                  columns = columns)\n",
    "\n",
    "plt.figure(figsize = (10,7))\n",
    "sn.heatmap(df_cm, annot=True)"
   ]
  },
  {
   "cell_type": "markdown",
   "metadata": {},
   "source": [
    "**Results Summary:**\n",
    "_Provide a brief summary of results obtained like model accuracy & other insights based on EDA & your interpretations_\n",
    "\n",
    "1. UnBalanced dataset may give wrong accuracy parameters as shown in section 1 to secton 6. By analyzing confusion matrix, it was clear that low frequency data is neglected and our algorithm is predicting most majority of class.\n",
    "2. UnBalanced dataset need to Balanced first before doing any kind of analysis. Confusion matrix is a good matric to check the real accuracy of the algorithm\n",
    "3. Linear classifier like Decision perform OK in this dataset but there is lot of scope of improvements\n",
    "4. Neural Network started from pre-trained weight but not re-training is taking a much greater time in achieving similar accuracy as for re-training weights methodology\n",
    "5. Neural Network started from pre-trained weight perform best in this case and obtained an accuracy of 97.18 in testing and confusion matrix is show at 273 line"
   ]
  },
  {
   "cell_type": "code",
   "execution_count": null,
   "metadata": {},
   "outputs": [],
   "source": []
  }
 ],
 "metadata": {
  "kernelspec": {
   "display_name": "Python 3",
   "language": "python",
   "name": "python3"
  },
  "language_info": {
   "codemirror_mode": {
    "name": "ipython",
    "version": 3
   },
   "file_extension": ".py",
   "mimetype": "text/x-python",
   "name": "python",
   "nbconvert_exporter": "python",
   "pygments_lexer": "ipython3",
   "version": "3.6.8"
  }
 },
 "nbformat": 4,
 "nbformat_minor": 2
}
